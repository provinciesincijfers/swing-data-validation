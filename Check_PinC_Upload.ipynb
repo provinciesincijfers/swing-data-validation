{
 "cells": [
  {
   "cell_type": "markdown",
   "metadata": {},
   "source": [
    "#### **Imports**"
   ]
  },
  {
   "cell_type": "code",
   "execution_count": 71,
   "metadata": {},
   "outputs": [],
   "source": [
    "import warnings;\n",
    "warnings.filterwarnings('ignore');"
   ]
  },
  {
   "cell_type": "code",
   "execution_count": 72,
   "metadata": {},
   "outputs": [],
   "source": [
    "%reload_ext autoreload\n",
    "%autoreload 2"
   ]
  },
  {
   "cell_type": "code",
   "execution_count": 73,
   "metadata": {},
   "outputs": [],
   "source": [
    "import pandas as pd\n",
    "import os, sys\n",
    "import numpy as np\n",
    "import random\n",
    "\n",
    "from  matplotlib.ticker import FuncFormatter # needed to set tickers properly in interactive plots\n",
    "import matplotlib.pyplot as plt\n",
    "import seaborn as sns\n",
    "sns.set_theme(style=\"darkgrid\")\n",
    "\n",
    "from ipywidgets import interact\n",
    "#from ipywidgets import interact, interactive, fixed, interact_manual\n",
    "import ipywidgets as widgets\n",
    "\n",
    "import requests\n",
    "\n",
    "from settings import PINC_GITHUB_DIR, JSON_CONF_DIR, UPLOAD_DIR\n",
    "from util.misc import generate_period_list\n",
    "from util.parse_df import Parse_df\n",
    "from util.conn_pinc_data import Conn_pinc_data\n"
   ]
  },
  {
   "cell_type": "code",
   "execution_count": 74,
   "metadata": {},
   "outputs": [],
   "source": [
    "from stadincijfers import stadincijfers\n",
    "from gebiedsniveaus.gebiedsniveaus import provincies_dict"
   ]
  },
  {
   "cell_type": "markdown",
   "metadata": {},
   "source": [
    "#### **Parameters**"
   ]
  },
  {
   "cell_type": "code",
   "execution_count": 75,
   "metadata": {},
   "outputs": [],
   "source": [
    "all_pinc_periods = True"
   ]
  },
  {
   "cell_type": "markdown",
   "metadata": {},
   "source": [
    "#### **PinC upload file**"
   ]
  },
  {
   "cell_type": "code",
   "execution_count": 132,
   "metadata": {},
   "outputs": [
    {
     "name": "stdout",
     "output_type": "stream",
     "text": [
      "./upload_pinc/20210623_Upload crimi en verkeer.xlsx\n"
     ]
    }
   ],
   "source": [
    "filename = '20210623_Upload crimi en verkeer.xlsx'\n",
    "#filename =  'v3122_nbb_20_21_zondergewest.xlsx'\n",
    "file = UPLOAD_DIR + '/' + filename\n",
    "print(file)"
   ]
  },
  {
   "cell_type": "markdown",
   "metadata": {},
   "source": [
    "#### **Import PinC upload file for validation**"
   ]
  },
  {
   "cell_type": "code",
   "execution_count": 133,
   "metadata": {},
   "outputs": [],
   "source": [
    "# Read excel file, since there was an issue with (a very limited number)\n",
    "# of values that were not read properly we do a string transformation (using a converter)\n",
    "# later on (the opposite) int transformation will be applied\n",
    "column_list = []\n",
    "df_column = pd.read_excel(file, engine='openpyxl').columns\n",
    "for j in df_column:\n",
    "        column_list.append(j)\n",
    "converter = {col: str for col in column_list}\n",
    "#print(column_list)\n",
    "\n",
    "# Read excel, index_col=0 prevents from adding extra index column\n",
    "# Sheet_name defaults to 0, use other int to choose different or use actual sheet-names (str).\n",
    "if 'Unnamed' in column_list[0]:\n",
    "    data_table = pd.read_excel(file, converters=converter, engine='openpyxl', sheet_name=0, index_col=0)\n",
    "else:\n",
    "    data_table = pd.read_excel(file, converters=converter, engine='openpyxl', sheet_name=0)"
   ]
  },
  {
   "cell_type": "code",
   "execution_count": 134,
   "metadata": {},
   "outputs": [
    {
     "data": {
      "text/html": [
       "<div>\n",
       "<style scoped>\n",
       "    .dataframe tbody tr th:only-of-type {\n",
       "        vertical-align: middle;\n",
       "    }\n",
       "\n",
       "    .dataframe tbody tr th {\n",
       "        vertical-align: top;\n",
       "    }\n",
       "\n",
       "    .dataframe thead th {\n",
       "        text-align: right;\n",
       "    }\n",
       "</style>\n",
       "<table border=\"1\" class=\"dataframe\">\n",
       "  <thead>\n",
       "    <tr style=\"text-align: right;\">\n",
       "      <th></th>\n",
       "      <th>period</th>\n",
       "      <th>geolevel</th>\n",
       "      <th>geoitem</th>\n",
       "      <th>v2802_vh_ver_do_aant</th>\n",
       "      <th>v2802_vh_ver_zgw_aant</th>\n",
       "      <th>v2802_vh_ver_lgw_aant</th>\n",
       "    </tr>\n",
       "  </thead>\n",
       "  <tbody>\n",
       "    <tr>\n",
       "      <th>0</th>\n",
       "      <td>2019</td>\n",
       "      <td>gemeente</td>\n",
       "      <td>11001</td>\n",
       "      <td>3</td>\n",
       "      <td>8</td>\n",
       "      <td>87</td>\n",
       "    </tr>\n",
       "    <tr>\n",
       "      <th>1</th>\n",
       "      <td>2019</td>\n",
       "      <td>gemeente</td>\n",
       "      <td>11002</td>\n",
       "      <td>12</td>\n",
       "      <td>176</td>\n",
       "      <td>2369</td>\n",
       "    </tr>\n",
       "    <tr>\n",
       "      <th>2</th>\n",
       "      <td>2019</td>\n",
       "      <td>gemeente</td>\n",
       "      <td>11004</td>\n",
       "      <td>0</td>\n",
       "      <td>3</td>\n",
       "      <td>23</td>\n",
       "    </tr>\n",
       "    <tr>\n",
       "      <th>3</th>\n",
       "      <td>2019</td>\n",
       "      <td>gemeente</td>\n",
       "      <td>11005</td>\n",
       "      <td>0</td>\n",
       "      <td>4</td>\n",
       "      <td>56</td>\n",
       "    </tr>\n",
       "    <tr>\n",
       "      <th>4</th>\n",
       "      <td>2019</td>\n",
       "      <td>gemeente</td>\n",
       "      <td>11007</td>\n",
       "      <td>0</td>\n",
       "      <td>4</td>\n",
       "      <td>42</td>\n",
       "    </tr>\n",
       "  </tbody>\n",
       "</table>\n",
       "</div>"
      ],
      "text/plain": [
       "  period  geolevel geoitem v2802_vh_ver_do_aant v2802_vh_ver_zgw_aant  \\\n",
       "0   2019  gemeente   11001                    3                     8   \n",
       "1   2019  gemeente   11002                   12                   176   \n",
       "2   2019  gemeente   11004                    0                     3   \n",
       "3   2019  gemeente   11005                    0                     4   \n",
       "4   2019  gemeente   11007                    0                     4   \n",
       "\n",
       "  v2802_vh_ver_lgw_aant  \n",
       "0                    87  \n",
       "1                  2369  \n",
       "2                    23  \n",
       "3                    56  \n",
       "4                    42  "
      ]
     },
     "execution_count": 134,
     "metadata": {},
     "output_type": "execute_result"
    }
   ],
   "source": [
    "data_table.head()"
   ]
  },
  {
   "cell_type": "markdown",
   "metadata": {},
   "source": [
    "### **Parse data_table**"
   ]
  },
  {
   "cell_type": "code",
   "execution_count": 135,
   "metadata": {},
   "outputs": [],
   "source": [
    "parsed_df = Parse_df(data_table)"
   ]
  },
  {
   "cell_type": "code",
   "execution_count": 136,
   "metadata": {},
   "outputs": [
    {
     "name": "stdout",
     "output_type": "stream",
     "text": [
      "List of upload table years: ['2019', '2020']\n",
      "Period list for Pinc Query: 2009, 2010, 2011, 2012, 2013, 2014, 2015, 2016, 2017, 2018, 2019, 2020\n"
     ]
    }
   ],
   "source": [
    "if all_pinc_periods:\n",
    "    period_list_pinc_query = parsed_df.determine_years('pinc', _ind_id = 0)\n",
    "elif not all_pinc_periods:\n",
    "    period_list_pinc_query = parsed_df.determine_years('table')\n",
    "else:\n",
    "    raise Exception(\"all_pinc_periods requires boolean value\")\n",
    "print(f'Period list for Pinc Query: {period_list_pinc_query}')"
   ]
  },
  {
   "cell_type": "code",
   "execution_count": 137,
   "metadata": {},
   "outputs": [
    {
     "name": "stdout",
     "output_type": "stream",
     "text": [
      "Indicator list for PinC Query: v2802_vh_ver_do_aant,v2802_vh_ver_zgw_aant,v2802_vh_ver_lgw_aant\n"
     ]
    }
   ],
   "source": [
    "var_list_pinc_query = parsed_df.determine_indicators()\n",
    "print(f'Indicator list for PinC Query: {var_list_pinc_query}')"
   ]
  },
  {
   "cell_type": "code",
   "execution_count": 138,
   "metadata": {},
   "outputs": [
    {
     "name": "stdout",
     "output_type": "stream",
     "text": [
      "Geolevel for PinC Query: gemeente\n"
     ]
    }
   ],
   "source": [
    "geolevel = parsed_df.determine_geolevel()\n",
    "print(f'Geolevel for PinC Query: {geolevel}')"
   ]
  },
  {
   "cell_type": "markdown",
   "metadata": {},
   "source": [
    "### **PinC Query**"
   ]
  },
  {
   "cell_type": "code",
   "execution_count": 139,
   "metadata": {},
   "outputs": [],
   "source": [
    "# Instantiate object from class\n",
    "pinc = stadincijfers(\"provincies\")"
   ]
  },
  {
   "cell_type": "code",
   "execution_count": 140,
   "metadata": {},
   "outputs": [],
   "source": [
    "pinc_table = pinc.selectiontableasDataframe(var_list_pinc_query, geolevel=geolevel, periodlevel='year',period=period_list_pinc_query)"
   ]
  },
  {
   "cell_type": "code",
   "execution_count": 141,
   "metadata": {},
   "outputs": [
    {
     "data": {
      "text/html": [
       "<div>\n",
       "<style scoped>\n",
       "    .dataframe tbody tr th:only-of-type {\n",
       "        vertical-align: middle;\n",
       "    }\n",
       "\n",
       "    .dataframe tbody tr th {\n",
       "        vertical-align: top;\n",
       "    }\n",
       "\n",
       "    .dataframe thead th {\n",
       "        text-align: right;\n",
       "    }\n",
       "</style>\n",
       "<table border=\"1\" class=\"dataframe\">\n",
       "  <thead>\n",
       "    <tr style=\"text-align: right;\">\n",
       "      <th></th>\n",
       "      <th>Geo</th>\n",
       "      <th>Perioden</th>\n",
       "      <th>doden na 30 dagen</th>\n",
       "      <th>zwaargewonden</th>\n",
       "      <th>lichtgewonden</th>\n",
       "    </tr>\n",
       "  </thead>\n",
       "  <tbody>\n",
       "    <tr>\n",
       "      <th>0</th>\n",
       "      <td>Aalst</td>\n",
       "      <td>2009</td>\n",
       "      <td>6.0</td>\n",
       "      <td>28</td>\n",
       "      <td>403</td>\n",
       "    </tr>\n",
       "    <tr>\n",
       "      <th>1</th>\n",
       "      <td>Aalst</td>\n",
       "      <td>2010</td>\n",
       "      <td>2.0</td>\n",
       "      <td>33</td>\n",
       "      <td>396</td>\n",
       "    </tr>\n",
       "    <tr>\n",
       "      <th>2</th>\n",
       "      <td>Aalst</td>\n",
       "      <td>2011</td>\n",
       "      <td>2.0</td>\n",
       "      <td>31</td>\n",
       "      <td>412</td>\n",
       "    </tr>\n",
       "    <tr>\n",
       "      <th>3</th>\n",
       "      <td>Aalst</td>\n",
       "      <td>2012</td>\n",
       "      <td>4.0</td>\n",
       "      <td>29</td>\n",
       "      <td>335</td>\n",
       "    </tr>\n",
       "    <tr>\n",
       "      <th>4</th>\n",
       "      <td>Aalst</td>\n",
       "      <td>2013</td>\n",
       "      <td>2.0</td>\n",
       "      <td>22</td>\n",
       "      <td>343</td>\n",
       "    </tr>\n",
       "  </tbody>\n",
       "</table>\n",
       "</div>"
      ],
      "text/plain": [
       "     Geo Perioden  doden na 30 dagen zwaargewonden lichtgewonden\n",
       "0  Aalst     2009                6.0            28           403\n",
       "1  Aalst     2010                2.0            33           396\n",
       "2  Aalst     2011                2.0            31           412\n",
       "3  Aalst     2012                4.0            29           335\n",
       "4  Aalst     2013                2.0            22           343"
      ]
     },
     "execution_count": 141,
     "metadata": {},
     "output_type": "execute_result"
    }
   ],
   "source": [
    "pinc_table.head()"
   ]
  },
  {
   "cell_type": "code",
   "execution_count": 142,
   "metadata": {},
   "outputs": [],
   "source": [
    "if pinc_table.columns[0] != 'Geo':\n",
    "    pinc_table.rename(columns={pinc_table.columns[0]: 'Geo'}, inplace = True)"
   ]
  },
  {
   "cell_type": "markdown",
   "metadata": {},
   "source": [
    "## ***Interactive check framework:***"
   ]
  },
  {
   "cell_type": "code",
   "execution_count": 143,
   "metadata": {},
   "outputs": [],
   "source": [
    "connection = Conn_pinc_data(pinc_table,data_table)"
   ]
  },
  {
   "cell_type": "code",
   "execution_count": 144,
   "metadata": {},
   "outputs": [],
   "source": [
    "var_dic = connection.cols_to_dict()\n",
    "geo_dic = Conn_pinc_data.reversed_level_code_dict(parsed_df.geolevel)"
   ]
  },
  {
   "cell_type": "code",
   "execution_count": 145,
   "metadata": {},
   "outputs": [
    {
     "name": "stdout",
     "output_type": "stream",
     "text": [
      "Random variable: lichtgewonden\n",
      "Random location: Begijnendijk\n"
     ]
    }
   ],
   "source": [
    "var = random.choice(list(var_dic.keys()))\n",
    "print(f'Random variable: {var}')\n",
    "geo = random.choice(list(geo_dic.keys()))\n",
    "print(f'Random location: {geo}')"
   ]
  },
  {
   "cell_type": "code",
   "execution_count": 146,
   "metadata": {},
   "outputs": [
    {
     "data": {
      "text/html": [
       "<div>\n",
       "<style scoped>\n",
       "    .dataframe tbody tr th:only-of-type {\n",
       "        vertical-align: middle;\n",
       "    }\n",
       "\n",
       "    .dataframe tbody tr th {\n",
       "        vertical-align: top;\n",
       "    }\n",
       "\n",
       "    .dataframe thead th {\n",
       "        text-align: right;\n",
       "    }\n",
       "</style>\n",
       "<table border=\"1\" class=\"dataframe\">\n",
       "  <thead>\n",
       "    <tr style=\"text-align: right;\">\n",
       "      <th></th>\n",
       "      <th>Geo</th>\n",
       "      <th>Perioden</th>\n",
       "      <th>doden na 30 dagen</th>\n",
       "      <th>zwaargewonden</th>\n",
       "      <th>lichtgewonden</th>\n",
       "    </tr>\n",
       "  </thead>\n",
       "  <tbody>\n",
       "    <tr>\n",
       "      <th>0</th>\n",
       "      <td>Aalst</td>\n",
       "      <td>2009</td>\n",
       "      <td>6.0</td>\n",
       "      <td>28</td>\n",
       "      <td>403</td>\n",
       "    </tr>\n",
       "    <tr>\n",
       "      <th>1</th>\n",
       "      <td>Aalst</td>\n",
       "      <td>2010</td>\n",
       "      <td>2.0</td>\n",
       "      <td>33</td>\n",
       "      <td>396</td>\n",
       "    </tr>\n",
       "    <tr>\n",
       "      <th>2</th>\n",
       "      <td>Aalst</td>\n",
       "      <td>2011</td>\n",
       "      <td>2.0</td>\n",
       "      <td>31</td>\n",
       "      <td>412</td>\n",
       "    </tr>\n",
       "    <tr>\n",
       "      <th>3</th>\n",
       "      <td>Aalst</td>\n",
       "      <td>2012</td>\n",
       "      <td>4.0</td>\n",
       "      <td>29</td>\n",
       "      <td>335</td>\n",
       "    </tr>\n",
       "    <tr>\n",
       "      <th>4</th>\n",
       "      <td>Aalst</td>\n",
       "      <td>2013</td>\n",
       "      <td>2.0</td>\n",
       "      <td>22</td>\n",
       "      <td>343</td>\n",
       "    </tr>\n",
       "  </tbody>\n",
       "</table>\n",
       "</div>"
      ],
      "text/plain": [
       "     Geo Perioden  doden na 30 dagen zwaargewonden lichtgewonden\n",
       "0  Aalst     2009                6.0            28           403\n",
       "1  Aalst     2010                2.0            33           396\n",
       "2  Aalst     2011                2.0            31           412\n",
       "3  Aalst     2012                4.0            29           335\n",
       "4  Aalst     2013                2.0            22           343"
      ]
     },
     "execution_count": 146,
     "metadata": {},
     "output_type": "execute_result"
    }
   ],
   "source": [
    "pinc_table.head()"
   ]
  },
  {
   "cell_type": "markdown",
   "metadata": {},
   "source": [
    "#### **Interactive plots:**"
   ]
  },
  {
   "cell_type": "markdown",
   "metadata": {},
   "source": [
    "##### **Set additive factor/constant for visually comparing upload and pinc number sequences**"
   ]
  },
  {
   "cell_type": "code",
   "execution_count": 147,
   "metadata": {},
   "outputs": [],
   "source": [
    "constant = 1"
   ]
  },
  {
   "cell_type": "code",
   "execution_count": 148,
   "metadata": {},
   "outputs": [],
   "source": [
    "# int transform changed to float transfrom in lambdas\n",
    "# to do: make constant (to make lines visually different) dynamic\n",
    "def draw_figure(var= var ,geo= geo):\n",
    "    tmp_df = pd.DataFrame()\n",
    "    \n",
    "    upload_var = var_dic.get(var)\n",
    "    upload_geo = geo_dic.get(geo)\n",
    "    \n",
    "    tmp_df_pinc = pinc_table[pinc_table['Geo']==geo][['Perioden','Geo',var]]\n",
    "    tmp_df_pinc['Geo'] = tmp_df_pinc['Geo'].apply(lambda x: str(x) + '_PinC')\n",
    "    tmp_df_pinc[var] = tmp_df_pinc[var].apply(lambda x: None if ((not x) or (x=='-') or (x=='x') or (x=='?')) else (float(x) + constant) )  # We add one to ease comparison in plot\n",
    "    tmp_df = tmp_df.append(tmp_df_pinc)\n",
    "    #print('PinC Dataframe:')\n",
    "    #print(tmp_df.head())\n",
    "    \n",
    "    tmp_df_upload = data_table[data_table['geoitem']==upload_geo][['period','geoitem',upload_var]]\n",
    "    tmp_df_upload = tmp_df_upload.rename(columns={'geoitem':'Geo', 'period': 'Perioden', upload_var : var})\n",
    "    tmp_df_upload['Geo'] = tmp_df_upload['Geo'].apply(lambda x: str(x) + '_Upload')\n",
    "    tmp_df_upload[var] = tmp_df_upload[var].apply(lambda x: float(x))\n",
    "    tmp_df = tmp_df.append(tmp_df_upload)\n",
    "    #print('Upload Dataframe:')\n",
    "    #print(tmp_df.head())\n",
    "    \n",
    "    tmp_df['Perioden'] = tmp_df['Perioden'].apply(lambda x: int(x))\n",
    "    #print(tmp_df['Perioden'].unique())\n",
    "    sns.lineplot(data=tmp_df, x='Perioden',y= var,hue='Geo', style='Geo', markers=True, dashes=False);\n",
    "    # Format year on xticks to int (instead of float):\n",
    "    plt.gca().xaxis.set_major_formatter(FuncFormatter(lambda x, _: int(x)));\n",
    "    plt.legend(bbox_to_anchor=(1.05, 1), loc=2, borderaxespad=0.);\n"
   ]
  },
  {
   "cell_type": "code",
   "execution_count": 149,
   "metadata": {},
   "outputs": [],
   "source": [
    "#draw_figure()"
   ]
  },
  {
   "cell_type": "code",
   "execution_count": 150,
   "metadata": {},
   "outputs": [],
   "source": [
    "list_vars = sorted(list(var_dic.keys()))\n",
    "list_geos = sorted(list(geo_dic.keys()))  # to do: do an alphabetic sort first"
   ]
  },
  {
   "cell_type": "code",
   "execution_count": 151,
   "metadata": {},
   "outputs": [
    {
     "data": {
      "application/vnd.jupyter.widget-view+json": {
       "model_id": "f15b56f7fb954d429d3d23dabcb1147c",
       "version_major": 2,
       "version_minor": 0
      },
      "text/plain": [
       "interactive(children=(Dropdown(description='var', index=1, options=('doden na 30 dagen', 'lichtgewonden', 'zwa…"
      ]
     },
     "metadata": {},
     "output_type": "display_data"
    }
   ],
   "source": [
    "# to do: make better label names\n",
    "interact(draw_figure, var=list_vars,geo=list_geos);"
   ]
  },
  {
   "cell_type": "markdown",
   "metadata": {},
   "source": [
    "#### **Iterative outlier analysis**"
   ]
  },
  {
   "cell_type": "markdown",
   "metadata": {},
   "source": [
    "##### **Overall outlier analysis (make a choice between (A.) automatic generation of comparison years or (B.) setting comparison years yourself):**"
   ]
  },
  {
   "cell_type": "code",
   "execution_count": 152,
   "metadata": {},
   "outputs": [
    {
     "name": "stdout",
     "output_type": "stream",
     "text": [
      "Upload year: 2019\n",
      "Pinc year: 2018\n"
     ]
    }
   ],
   "source": [
    "# A. Random generation of comparison years (starting from oldest year in upload file):\n",
    "upload_year = parsed_df.years[0]\n",
    "print(f'Upload year: {upload_year}')\n",
    "if str((int(upload_year)-1)) in parsed_df.pinc_q_years :\n",
    "    pinc_year = int(upload_year)-1\n",
    "else:\n",
    "    pinc_year = random.choice(parsed_df.pinc_q_years)\n",
    "print(f'Pinc year: {pinc_year}')"
   ]
  },
  {
   "cell_type": "code",
   "execution_count": 153,
   "metadata": {},
   "outputs": [],
   "source": [
    "# B. Set comparison years:\n",
    "upload_year = 2020\n",
    "pinc_year = 2019"
   ]
  },
  {
   "cell_type": "code",
   "execution_count": 154,
   "metadata": {},
   "outputs": [
    {
     "data": {
      "text/html": [
       "<div>\n",
       "<style scoped>\n",
       "    .dataframe tbody tr th:only-of-type {\n",
       "        vertical-align: middle;\n",
       "    }\n",
       "\n",
       "    .dataframe tbody tr th {\n",
       "        vertical-align: top;\n",
       "    }\n",
       "\n",
       "    .dataframe thead th {\n",
       "        text-align: right;\n",
       "    }\n",
       "</style>\n",
       "<table border=\"1\" class=\"dataframe\">\n",
       "  <thead>\n",
       "    <tr style=\"text-align: right;\">\n",
       "      <th></th>\n",
       "      <th>Geo_pinc</th>\n",
       "      <th>_pinc_2019</th>\n",
       "      <th>_upload_2020</th>\n",
       "      <th>diff</th>\n",
       "      <th>Indicator</th>\n",
       "    </tr>\n",
       "  </thead>\n",
       "  <tbody>\n",
       "    <tr>\n",
       "      <th>280</th>\n",
       "      <td>Vorselaar</td>\n",
       "      <td>0.0</td>\n",
       "      <td>2.0</td>\n",
       "      <td>inf</td>\n",
       "      <td>zwaargewonden_P2019_U2020</td>\n",
       "    </tr>\n",
       "    <tr>\n",
       "      <th>245</th>\n",
       "      <td>Sint-Genesius-Rode</td>\n",
       "      <td>0.0</td>\n",
       "      <td>2.0</td>\n",
       "      <td>inf</td>\n",
       "      <td>zwaargewonden_P2019_U2020</td>\n",
       "    </tr>\n",
       "    <tr>\n",
       "      <th>235</th>\n",
       "      <td>Roosdaal</td>\n",
       "      <td>0.0</td>\n",
       "      <td>2.0</td>\n",
       "      <td>inf</td>\n",
       "      <td>zwaargewonden_P2019_U2020</td>\n",
       "    </tr>\n",
       "    <tr>\n",
       "      <th>287</th>\n",
       "      <td>Wellen</td>\n",
       "      <td>0.0</td>\n",
       "      <td>1.0</td>\n",
       "      <td>inf</td>\n",
       "      <td>zwaargewonden_P2019_U2020</td>\n",
       "    </tr>\n",
       "    <tr>\n",
       "      <th>173</th>\n",
       "      <td>Linter</td>\n",
       "      <td>0.0</td>\n",
       "      <td>1.0</td>\n",
       "      <td>inf</td>\n",
       "      <td>zwaargewonden_P2019_U2020</td>\n",
       "    </tr>\n",
       "    <tr>\n",
       "      <th>171</th>\n",
       "      <td>Linkebeek</td>\n",
       "      <td>0.0</td>\n",
       "      <td>2.0</td>\n",
       "      <td>inf</td>\n",
       "      <td>zwaargewonden_P2019_U2020</td>\n",
       "    </tr>\n",
       "    <tr>\n",
       "      <th>57</th>\n",
       "      <td>Dentergem</td>\n",
       "      <td>0.0</td>\n",
       "      <td>1.0</td>\n",
       "      <td>inf</td>\n",
       "      <td>zwaargewonden_P2019_U2020</td>\n",
       "    </tr>\n",
       "    <tr>\n",
       "      <th>295</th>\n",
       "      <td>Wielsbeke</td>\n",
       "      <td>0.0</td>\n",
       "      <td>3.0</td>\n",
       "      <td>inf</td>\n",
       "      <td>zwaargewonden_P2019_U2020</td>\n",
       "    </tr>\n",
       "    <tr>\n",
       "      <th>140</th>\n",
       "      <td>Koekelare</td>\n",
       "      <td>0.0</td>\n",
       "      <td>1.0</td>\n",
       "      <td>inf</td>\n",
       "      <td>zwaargewonden_P2019_U2020</td>\n",
       "    </tr>\n",
       "    <tr>\n",
       "      <th>16</th>\n",
       "      <td>Baarle-Hertog</td>\n",
       "      <td>0.0</td>\n",
       "      <td>1.0</td>\n",
       "      <td>inf</td>\n",
       "      <td>zwaargewonden_P2019_U2020</td>\n",
       "    </tr>\n",
       "    <tr>\n",
       "      <th>286</th>\n",
       "      <td>Watermaal-Bosvoorde</td>\n",
       "      <td>0.0</td>\n",
       "      <td>4.0</td>\n",
       "      <td>inf</td>\n",
       "      <td>zwaargewonden_P2019_U2020</td>\n",
       "    </tr>\n",
       "    <tr>\n",
       "      <th>62</th>\n",
       "      <td>Diksmuide</td>\n",
       "      <td>3.0</td>\n",
       "      <td>16.0</td>\n",
       "      <td>4.333333</td>\n",
       "      <td>zwaargewonden_P2019_U2020</td>\n",
       "    </tr>\n",
       "    <tr>\n",
       "      <th>30</th>\n",
       "      <td>Bilzen</td>\n",
       "      <td>3.0</td>\n",
       "      <td>15.0</td>\n",
       "      <td>4.000000</td>\n",
       "      <td>zwaargewonden_P2019_U2020</td>\n",
       "    </tr>\n",
       "    <tr>\n",
       "      <th>141</th>\n",
       "      <td>Koekelberg</td>\n",
       "      <td>1.0</td>\n",
       "      <td>5.0</td>\n",
       "      <td>4.000000</td>\n",
       "      <td>zwaargewonden_P2019_U2020</td>\n",
       "    </tr>\n",
       "    <tr>\n",
       "      <th>244</th>\n",
       "      <td>Sint-Agatha-Berchem</td>\n",
       "      <td>1.0</td>\n",
       "      <td>5.0</td>\n",
       "      <td>4.000000</td>\n",
       "      <td>zwaargewonden_P2019_U2020</td>\n",
       "    </tr>\n",
       "    <tr>\n",
       "      <th>309</th>\n",
       "      <td>Zonhoven</td>\n",
       "      <td>1.0</td>\n",
       "      <td>4.0</td>\n",
       "      <td>3.000000</td>\n",
       "      <td>doden na 30 dagen_P2019_U2020</td>\n",
       "    </tr>\n",
       "    <tr>\n",
       "      <th>311</th>\n",
       "      <td>Zottegem</td>\n",
       "      <td>1.0</td>\n",
       "      <td>4.0</td>\n",
       "      <td>3.000000</td>\n",
       "      <td>doden na 30 dagen_P2019_U2020</td>\n",
       "    </tr>\n",
       "    <tr>\n",
       "      <th>43</th>\n",
       "      <td>Brecht</td>\n",
       "      <td>1.0</td>\n",
       "      <td>4.0</td>\n",
       "      <td>3.000000</td>\n",
       "      <td>doden na 30 dagen_P2019_U2020</td>\n",
       "    </tr>\n",
       "    <tr>\n",
       "      <th>233</th>\n",
       "      <td>Roeselare</td>\n",
       "      <td>1.0</td>\n",
       "      <td>3.0</td>\n",
       "      <td>2.000000</td>\n",
       "      <td>doden na 30 dagen_P2019_U2020</td>\n",
       "    </tr>\n",
       "    <tr>\n",
       "      <th>231</th>\n",
       "      <td>Riemst</td>\n",
       "      <td>1.0</td>\n",
       "      <td>3.0</td>\n",
       "      <td>2.000000</td>\n",
       "      <td>zwaargewonden_P2019_U2020</td>\n",
       "    </tr>\n",
       "    <tr>\n",
       "      <th>107</th>\n",
       "      <td>Herselt</td>\n",
       "      <td>2.0</td>\n",
       "      <td>6.0</td>\n",
       "      <td>2.000000</td>\n",
       "      <td>zwaargewonden_P2019_U2020</td>\n",
       "    </tr>\n",
       "    <tr>\n",
       "      <th>93</th>\n",
       "      <td>Ham</td>\n",
       "      <td>1.0</td>\n",
       "      <td>3.0</td>\n",
       "      <td>2.000000</td>\n",
       "      <td>zwaargewonden_P2019_U2020</td>\n",
       "    </tr>\n",
       "    <tr>\n",
       "      <th>125</th>\n",
       "      <td>Ieper</td>\n",
       "      <td>1.0</td>\n",
       "      <td>3.0</td>\n",
       "      <td>2.000000</td>\n",
       "      <td>doden na 30 dagen_P2019_U2020</td>\n",
       "    </tr>\n",
       "    <tr>\n",
       "      <th>137</th>\n",
       "      <td>Kinrooi</td>\n",
       "      <td>2.0</td>\n",
       "      <td>6.0</td>\n",
       "      <td>2.000000</td>\n",
       "      <td>zwaargewonden_P2019_U2020</td>\n",
       "    </tr>\n",
       "    <tr>\n",
       "      <th>265</th>\n",
       "      <td>Ternat</td>\n",
       "      <td>1.0</td>\n",
       "      <td>3.0</td>\n",
       "      <td>2.000000</td>\n",
       "      <td>zwaargewonden_P2019_U2020</td>\n",
       "    </tr>\n",
       "    <tr>\n",
       "      <th>246</th>\n",
       "      <td>Sint-Gillis</td>\n",
       "      <td>3.0</td>\n",
       "      <td>9.0</td>\n",
       "      <td>2.000000</td>\n",
       "      <td>zwaargewonden_P2019_U2020</td>\n",
       "    </tr>\n",
       "    <tr>\n",
       "      <th>150</th>\n",
       "      <td>Kruibeke</td>\n",
       "      <td>1.0</td>\n",
       "      <td>3.0</td>\n",
       "      <td>2.000000</td>\n",
       "      <td>doden na 30 dagen_P2019_U2020</td>\n",
       "    </tr>\n",
       "    <tr>\n",
       "      <th>26</th>\n",
       "      <td>Bertem</td>\n",
       "      <td>1.0</td>\n",
       "      <td>3.0</td>\n",
       "      <td>2.000000</td>\n",
       "      <td>zwaargewonden_P2019_U2020</td>\n",
       "    </tr>\n",
       "    <tr>\n",
       "      <th>243</th>\n",
       "      <td>Schoten</td>\n",
       "      <td>4.0</td>\n",
       "      <td>11.0</td>\n",
       "      <td>1.750000</td>\n",
       "      <td>zwaargewonden_P2019_U2020</td>\n",
       "    </tr>\n",
       "    <tr>\n",
       "      <th>298</th>\n",
       "      <td>Wingene</td>\n",
       "      <td>4.0</td>\n",
       "      <td>10.0</td>\n",
       "      <td>1.500000</td>\n",
       "      <td>zwaargewonden_P2019_U2020</td>\n",
       "    </tr>\n",
       "  </tbody>\n",
       "</table>\n",
       "</div>"
      ],
      "text/plain": [
       "                Geo_pinc  _pinc_2019  _upload_2020      diff  \\\n",
       "280            Vorselaar         0.0           2.0       inf   \n",
       "245   Sint-Genesius-Rode         0.0           2.0       inf   \n",
       "235             Roosdaal         0.0           2.0       inf   \n",
       "287               Wellen         0.0           1.0       inf   \n",
       "173               Linter         0.0           1.0       inf   \n",
       "171            Linkebeek         0.0           2.0       inf   \n",
       "57             Dentergem         0.0           1.0       inf   \n",
       "295            Wielsbeke         0.0           3.0       inf   \n",
       "140            Koekelare         0.0           1.0       inf   \n",
       "16         Baarle-Hertog         0.0           1.0       inf   \n",
       "286  Watermaal-Bosvoorde         0.0           4.0       inf   \n",
       "62             Diksmuide         3.0          16.0  4.333333   \n",
       "30                Bilzen         3.0          15.0  4.000000   \n",
       "141           Koekelberg         1.0           5.0  4.000000   \n",
       "244  Sint-Agatha-Berchem         1.0           5.0  4.000000   \n",
       "309             Zonhoven         1.0           4.0  3.000000   \n",
       "311             Zottegem         1.0           4.0  3.000000   \n",
       "43                Brecht         1.0           4.0  3.000000   \n",
       "233            Roeselare         1.0           3.0  2.000000   \n",
       "231               Riemst         1.0           3.0  2.000000   \n",
       "107              Herselt         2.0           6.0  2.000000   \n",
       "93                   Ham         1.0           3.0  2.000000   \n",
       "125                Ieper         1.0           3.0  2.000000   \n",
       "137              Kinrooi         2.0           6.0  2.000000   \n",
       "265               Ternat         1.0           3.0  2.000000   \n",
       "246          Sint-Gillis         3.0           9.0  2.000000   \n",
       "150             Kruibeke         1.0           3.0  2.000000   \n",
       "26                Bertem         1.0           3.0  2.000000   \n",
       "243              Schoten         4.0          11.0  1.750000   \n",
       "298              Wingene         4.0          10.0  1.500000   \n",
       "\n",
       "                         Indicator  \n",
       "280      zwaargewonden_P2019_U2020  \n",
       "245      zwaargewonden_P2019_U2020  \n",
       "235      zwaargewonden_P2019_U2020  \n",
       "287      zwaargewonden_P2019_U2020  \n",
       "173      zwaargewonden_P2019_U2020  \n",
       "171      zwaargewonden_P2019_U2020  \n",
       "57       zwaargewonden_P2019_U2020  \n",
       "295      zwaargewonden_P2019_U2020  \n",
       "140      zwaargewonden_P2019_U2020  \n",
       "16       zwaargewonden_P2019_U2020  \n",
       "286      zwaargewonden_P2019_U2020  \n",
       "62       zwaargewonden_P2019_U2020  \n",
       "30       zwaargewonden_P2019_U2020  \n",
       "141      zwaargewonden_P2019_U2020  \n",
       "244      zwaargewonden_P2019_U2020  \n",
       "309  doden na 30 dagen_P2019_U2020  \n",
       "311  doden na 30 dagen_P2019_U2020  \n",
       "43   doden na 30 dagen_P2019_U2020  \n",
       "233  doden na 30 dagen_P2019_U2020  \n",
       "231      zwaargewonden_P2019_U2020  \n",
       "107      zwaargewonden_P2019_U2020  \n",
       "93       zwaargewonden_P2019_U2020  \n",
       "125  doden na 30 dagen_P2019_U2020  \n",
       "137      zwaargewonden_P2019_U2020  \n",
       "265      zwaargewonden_P2019_U2020  \n",
       "246      zwaargewonden_P2019_U2020  \n",
       "150  doden na 30 dagen_P2019_U2020  \n",
       "26       zwaargewonden_P2019_U2020  \n",
       "243      zwaargewonden_P2019_U2020  \n",
       "298      zwaargewonden_P2019_U2020  "
      ]
     },
     "execution_count": 154,
     "metadata": {},
     "output_type": "execute_result"
    }
   ],
   "source": [
    "tmp_df = pd.DataFrame()\n",
    "tel = 0\n",
    "for var in list(var_dic.keys()):\n",
    "\n",
    "\n",
    "    upload_var = var_dic.get(var)\n",
    "\n",
    "    tmp_df_pinc = pinc_table[pinc_table['Perioden']==str(pinc_year)][['Geo',var]]\n",
    "    tmp_df_pinc[var] = tmp_df_pinc[var].apply(lambda x: None if ((not x) or (x=='-') or (x=='x') or (x=='?')) else (float(x) ) )\n",
    "    tmp_df_pinc = tmp_df_pinc.rename(columns={'Geo':'Geo_pinc',var: '_pinc_' + str(pinc_year)})\n",
    "    tmp_df_pinc['geo_code_pinc'] = tmp_df_pinc['Geo_pinc'].map(geo_dic)\n",
    "\n",
    "\n",
    "    tmp_df_upload = data_table[data_table['period']==str(upload_year)][['geoitem',upload_var]]\n",
    "    tmp_df_upload = tmp_df_upload.rename(columns={'geoitem':'geo_code_upload', upload_var : '_upload_' + str(upload_year)})\n",
    "    tmp_df_upload['_upload_' + str(upload_year)] = tmp_df_upload['_upload_' + str(upload_year)].apply(lambda x: float(x))\n",
    "\n",
    "    merged_df = tmp_df_pinc.merge(tmp_df_upload, left_on='geo_code_pinc', right_on='geo_code_upload')\n",
    "    merged_df['diff'] = abs(merged_df['_pinc_' + str(pinc_year)]-merged_df['_upload_' + str(upload_year)])/merged_df['_pinc_' + str(pinc_year)]\n",
    "    merged_df['Indicator'] = var + '_P' + str(pinc_year) + '_U' + str(upload_year)\n",
    "    \n",
    "    ## Uncomment next line for some validation\n",
    "    #print(f'Variable: {var}, Shape: {merged_df.shape}')\n",
    "    tel += merged_df.shape[0]\n",
    "    tmp_df = tmp_df.append(merged_df)\n",
    "\n",
    "## Uncomment two next lines for some counters to be used for validation:    \n",
    "#tel_t = len(list(var_dic.keys())*merged_df.shape[0])     \n",
    "#print(f'Cumulated no. rows: {tel} vs theoretical no. rows: {tel_t}')\n",
    "\n",
    "# Uncomment second line if you want to ignore diff=inf as a result from division by zero\n",
    "tmp_df.sort_values(by=['diff'], ascending=False)[['Geo_pinc', '_pinc_' + str(pinc_year), '_upload_' + str(upload_year),'diff','Indicator']].head(30)\n",
    "#tmp_df[~(tmp_df['diff']==np.inf)].sort_values(by=['diff'], ascending=False)[['Geo_pinc', '_pinc_' + str(pinc_year), '_upload_' + str(upload_year),'diff','Indicator']].head(30)"
   ]
  },
  {
   "cell_type": "code",
   "execution_count": null,
   "metadata": {},
   "outputs": [],
   "source": []
  },
  {
   "cell_type": "markdown",
   "metadata": {},
   "source": [
    "##### **Univariate outlier analysis:**"
   ]
  },
  {
   "cell_type": "code",
   "execution_count": 155,
   "metadata": {},
   "outputs": [],
   "source": [
    "def show_outliers(var = var, upload_year = upload_year, pinc_year = pinc_year):\n",
    "    upload_var = var_dic.get(var)\n",
    "    \n",
    "    tmp_df_pinc = pinc_table[pinc_table['Perioden']==str(pinc_year)][['Geo',var]]\n",
    "    tmp_df_pinc[var] = tmp_df_pinc[var].apply(lambda x: None if ((not x) or (x=='-') or (x=='x') or (x=='?')) else (float(x) ) ) \n",
    "    tmp_df_pinc = tmp_df_pinc.rename(columns={'Geo':'Geo_pinc',var: var + '_pinc_' + str(pinc_year)})\n",
    "    tmp_df_pinc['geo_code_pinc'] = tmp_df_pinc['Geo_pinc'].map(geo_dic)\n",
    "\n",
    "\n",
    "    tmp_df_upload = data_table[data_table['period']==str(upload_year)][['geoitem',upload_var]]\n",
    "    tmp_df_upload = tmp_df_upload.rename(columns={'geoitem':'geo_code_upload', upload_var : var + '_upload_' + str(upload_year)})\n",
    "    tmp_df_upload[var + '_upload_' + str(upload_year)] = tmp_df_upload[var + '_upload_' + str(upload_year)].apply(lambda x: float(x))\n",
    "\n",
    "    merged_df = tmp_df_pinc.merge(tmp_df_upload, left_on='geo_code_pinc', right_on='geo_code_upload')\n",
    "    merged_df['diff'] = abs(merged_df[var + '_pinc_' + str(pinc_year)]-merged_df[var + '_upload_' + str(upload_year)])/merged_df[var + '_pinc_' + str(pinc_year)]\n",
    "    #return merged_df.sort_values(by=['diff'], ascending=False)[['Geo_pinc', var + '_pinc_' + str(pinc_year), var + '_upload_' + str(upload_year),'diff']].head(20)\n",
    "    return merged_df[~(merged_df['diff']==np.inf)].sort_values(by=['diff'], ascending=False)[['Geo_pinc', var + '_pinc_' + str(pinc_year), var + '_upload_' + str(upload_year),'diff']].head(20)"
   ]
  },
  {
   "cell_type": "code",
   "execution_count": 156,
   "metadata": {},
   "outputs": [],
   "source": [
    "#show_outliers()"
   ]
  },
  {
   "cell_type": "code",
   "execution_count": 157,
   "metadata": {},
   "outputs": [],
   "source": [
    "list_upload_years = parsed_df.years\n",
    "list_pinc_years = parsed_df.pinc_q_years"
   ]
  },
  {
   "cell_type": "code",
   "execution_count": 158,
   "metadata": {},
   "outputs": [
    {
     "data": {
      "application/vnd.jupyter.widget-view+json": {
       "model_id": "0994ff7d1279403a81c9e7d31d51b65e",
       "version_major": 2,
       "version_minor": 0
      },
      "text/plain": [
       "interactive(children=(Dropdown(description='var', index=1, options=('doden na 30 dagen', 'lichtgewonden', 'zwa…"
      ]
     },
     "metadata": {},
     "output_type": "display_data"
    }
   ],
   "source": [
    "# to do: make better label names\n",
    "interact(show_outliers, var=list_vars,upload_year = list_upload_years, pinc_year = list_pinc_years);"
   ]
  },
  {
   "cell_type": "code",
   "execution_count": null,
   "metadata": {},
   "outputs": [],
   "source": []
  },
  {
   "cell_type": "code",
   "execution_count": null,
   "metadata": {},
   "outputs": [],
   "source": []
  },
  {
   "cell_type": "code",
   "execution_count": null,
   "metadata": {},
   "outputs": [],
   "source": []
  }
 ],
 "metadata": {
  "kernelspec": {
   "display_name": "Python 3",
   "language": "python",
   "name": "python3"
  },
  "language_info": {
   "codemirror_mode": {
    "name": "ipython",
    "version": 3
   },
   "file_extension": ".py",
   "mimetype": "text/x-python",
   "name": "python",
   "nbconvert_exporter": "python",
   "pygments_lexer": "ipython3",
   "version": "3.8.2"
  }
 },
 "nbformat": 4,
 "nbformat_minor": 4
}
