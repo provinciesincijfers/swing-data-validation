{
 "cells": [
  {
   "cell_type": "code",
   "execution_count": 2,
   "id": "median-ordinance",
   "metadata": {},
   "outputs": [],
   "source": [
    "%reload_ext autoreload\n",
    "%autoreload 2"
   ]
  },
  {
   "cell_type": "markdown",
   "id": "approximate-travel",
   "metadata": {},
   "source": [
    "## **Transform github excel gebiedsdefinities to json, in format {code : level_name}**"
   ]
  },
  {
   "cell_type": "code",
   "execution_count": 3,
   "id": "surrounded-updating",
   "metadata": {},
   "outputs": [],
   "source": [
    "import os\n",
    "import pandas as pd\n",
    "import json\n",
    "\n",
    "from settings import PINC_GITHUB_DIR, JSON_CONF_DIR\n",
    "from util.misc import write_json_file"
   ]
  },
  {
   "cell_type": "markdown",
   "id": "ordinary-temperature",
   "metadata": {},
   "source": [
    "#### **Transform gewest.xlsx to json**"
   ]
  },
  {
   "cell_type": "code",
   "execution_count": 4,
   "id": "military-proxy",
   "metadata": {},
   "outputs": [
    {
     "name": "stdout",
     "output_type": "stream",
     "text": [
      "./config/pinc_github_dir/gewest.xlsx\n"
     ]
    }
   ],
   "source": [
    "filename = 'gewest.xlsx'\n",
    "file = PINC_GITHUB_DIR + '/' + filename\n",
    "print(file)"
   ]
  },
  {
   "cell_type": "code",
   "execution_count": 5,
   "id": "finnish-throw",
   "metadata": {},
   "outputs": [],
   "source": [
    "df = pd.read_excel(file, engine='openpyxl')"
   ]
  },
  {
   "cell_type": "code",
   "execution_count": 6,
   "id": "japanese-paper",
   "metadata": {},
   "outputs": [
    {
     "data": {
      "text/html": [
       "<div>\n",
       "<style scoped>\n",
       "    .dataframe tbody tr th:only-of-type {\n",
       "        vertical-align: middle;\n",
       "    }\n",
       "\n",
       "    .dataframe tbody tr th {\n",
       "        vertical-align: top;\n",
       "    }\n",
       "\n",
       "    .dataframe thead th {\n",
       "        text-align: right;\n",
       "    }\n",
       "</style>\n",
       "<table border=\"1\" class=\"dataframe\">\n",
       "  <thead>\n",
       "    <tr style=\"text-align: right;\">\n",
       "      <th></th>\n",
       "      <th>volgnr</th>\n",
       "      <th>gebiedscode</th>\n",
       "      <th>naam_kort</th>\n",
       "      <th>naam</th>\n",
       "    </tr>\n",
       "  </thead>\n",
       "  <tbody>\n",
       "    <tr>\n",
       "      <th>0</th>\n",
       "      <td>1</td>\n",
       "      <td>2000</td>\n",
       "      <td>Vlaams Gewest</td>\n",
       "      <td>Vlaams Gewest</td>\n",
       "    </tr>\n",
       "    <tr>\n",
       "      <th>1</th>\n",
       "      <td>2</td>\n",
       "      <td>4000</td>\n",
       "      <td>Brussels Hoofdstedelijk Gewest</td>\n",
       "      <td>Brussels Hoofdstedelijk Gewest</td>\n",
       "    </tr>\n",
       "    <tr>\n",
       "      <th>2</th>\n",
       "      <td>3</td>\n",
       "      <td>99999</td>\n",
       "      <td>Gewest onbekend</td>\n",
       "      <td>Gewest onbekend</td>\n",
       "    </tr>\n",
       "  </tbody>\n",
       "</table>\n",
       "</div>"
      ],
      "text/plain": [
       "   volgnr  gebiedscode                       naam_kort  \\\n",
       "0       1         2000                   Vlaams Gewest   \n",
       "1       2         4000  Brussels Hoofdstedelijk Gewest   \n",
       "2       3        99999                 Gewest onbekend   \n",
       "\n",
       "                             naam  \n",
       "0                   Vlaams Gewest  \n",
       "1  Brussels Hoofdstedelijk Gewest  \n",
       "2                 Gewest onbekend  "
      ]
     },
     "execution_count": 6,
     "metadata": {},
     "output_type": "execute_result"
    }
   ],
   "source": [
    "df.head()"
   ]
  },
  {
   "cell_type": "code",
   "execution_count": 7,
   "id": "abroad-corps",
   "metadata": {},
   "outputs": [],
   "source": [
    "dic = df.set_index('gebiedscode')['naam'].to_dict()"
   ]
  },
  {
   "cell_type": "code",
   "execution_count": 8,
   "id": "french-drinking",
   "metadata": {},
   "outputs": [
    {
     "name": "stdout",
     "output_type": "stream",
     "text": [
      "Writing to: ./config/json_config_dir/gewest.json\n"
     ]
    }
   ],
   "source": [
    "write_json_file(dic, 'gewest.json')"
   ]
  },
  {
   "cell_type": "markdown",
   "id": "nervous-layout",
   "metadata": {},
   "source": [
    "#### **Transform gemeente.xlsx to json**"
   ]
  },
  {
   "cell_type": "code",
   "execution_count": 3,
   "id": "searching-coral",
   "metadata": {},
   "outputs": [
    {
     "name": "stdout",
     "output_type": "stream",
     "text": [
      "./config/pinc_github_dir/gemeente.xlsx\n"
     ]
    }
   ],
   "source": [
    "filename = 'gemeente.xlsx'\n",
    "file = PINC_GITHUB_DIR + '/' + filename\n",
    "print(file)"
   ]
  },
  {
   "cell_type": "code",
   "execution_count": 4,
   "id": "threaded-range",
   "metadata": {},
   "outputs": [],
   "source": [
    "df = pd.read_excel(file, engine='openpyxl')"
   ]
  },
  {
   "cell_type": "code",
   "execution_count": 5,
   "id": "female-circus",
   "metadata": {},
   "outputs": [
    {
     "data": {
      "text/html": [
       "<div>\n",
       "<style scoped>\n",
       "    .dataframe tbody tr th:only-of-type {\n",
       "        vertical-align: middle;\n",
       "    }\n",
       "\n",
       "    .dataframe tbody tr th {\n",
       "        vertical-align: top;\n",
       "    }\n",
       "\n",
       "    .dataframe thead th {\n",
       "        text-align: right;\n",
       "    }\n",
       "</style>\n",
       "<table border=\"1\" class=\"dataframe\">\n",
       "  <thead>\n",
       "    <tr style=\"text-align: right;\">\n",
       "      <th></th>\n",
       "      <th>volgnr</th>\n",
       "      <th>gebiedscode</th>\n",
       "      <th>naam_kort</th>\n",
       "      <th>naam</th>\n",
       "    </tr>\n",
       "  </thead>\n",
       "  <tbody>\n",
       "    <tr>\n",
       "      <th>0</th>\n",
       "      <td>1</td>\n",
       "      <td>41002</td>\n",
       "      <td>Aalst</td>\n",
       "      <td>Aalst</td>\n",
       "    </tr>\n",
       "    <tr>\n",
       "      <th>1</th>\n",
       "      <td>2</td>\n",
       "      <td>44084</td>\n",
       "      <td>Aalter</td>\n",
       "      <td>Aalter</td>\n",
       "    </tr>\n",
       "    <tr>\n",
       "      <th>2</th>\n",
       "      <td>3</td>\n",
       "      <td>24001</td>\n",
       "      <td>Aarschot</td>\n",
       "      <td>Aarschot</td>\n",
       "    </tr>\n",
       "    <tr>\n",
       "      <th>3</th>\n",
       "      <td>4</td>\n",
       "      <td>11001</td>\n",
       "      <td>Aartselaar</td>\n",
       "      <td>Aartselaar</td>\n",
       "    </tr>\n",
       "    <tr>\n",
       "      <th>4</th>\n",
       "      <td>5</td>\n",
       "      <td>23105</td>\n",
       "      <td>Affligem</td>\n",
       "      <td>Affligem</td>\n",
       "    </tr>\n",
       "  </tbody>\n",
       "</table>\n",
       "</div>"
      ],
      "text/plain": [
       "   volgnr  gebiedscode   naam_kort        naam\n",
       "0       1        41002       Aalst       Aalst\n",
       "1       2        44084      Aalter      Aalter\n",
       "2       3        24001    Aarschot    Aarschot\n",
       "3       4        11001  Aartselaar  Aartselaar\n",
       "4       5        23105    Affligem    Affligem"
      ]
     },
     "execution_count": 5,
     "metadata": {},
     "output_type": "execute_result"
    }
   ],
   "source": [
    "df.head()"
   ]
  },
  {
   "cell_type": "code",
   "execution_count": 6,
   "id": "recent-replica",
   "metadata": {},
   "outputs": [],
   "source": [
    "dic = df.set_index('gebiedscode')['naam'].to_dict()"
   ]
  },
  {
   "cell_type": "code",
   "execution_count": 8,
   "id": "automated-defensive",
   "metadata": {},
   "outputs": [
    {
     "name": "stdout",
     "output_type": "stream",
     "text": [
      "Writing to: ./config/json_config_dir/gemeente.json\n"
     ]
    }
   ],
   "source": [
    "write_json_file(dic, 'gemeente.json')"
   ]
  },
  {
   "cell_type": "markdown",
   "id": "virtual-generator",
   "metadata": {},
   "source": [
    "#### **Transform gemeente2018.xlsx to json**"
   ]
  },
  {
   "cell_type": "code",
   "execution_count": 3,
   "id": "norman-criminal",
   "metadata": {},
   "outputs": [
    {
     "name": "stdout",
     "output_type": "stream",
     "text": [
      "./config/pinc_github_dir/gemeente2018.xlsx\n"
     ]
    }
   ],
   "source": [
    "filename = 'gemeente2018.xlsx'\n",
    "file = PINC_GITHUB_DIR + '/' + filename\n",
    "print(file)"
   ]
  },
  {
   "cell_type": "code",
   "execution_count": 4,
   "id": "everyday-starter",
   "metadata": {},
   "outputs": [],
   "source": [
    "df = pd.read_excel(file, engine='openpyxl')"
   ]
  },
  {
   "cell_type": "code",
   "execution_count": 5,
   "id": "intensive-click",
   "metadata": {},
   "outputs": [
    {
     "data": {
      "text/html": [
       "<div>\n",
       "<style scoped>\n",
       "    .dataframe tbody tr th:only-of-type {\n",
       "        vertical-align: middle;\n",
       "    }\n",
       "\n",
       "    .dataframe tbody tr th {\n",
       "        vertical-align: top;\n",
       "    }\n",
       "\n",
       "    .dataframe thead th {\n",
       "        text-align: right;\n",
       "    }\n",
       "</style>\n",
       "<table border=\"1\" class=\"dataframe\">\n",
       "  <thead>\n",
       "    <tr style=\"text-align: right;\">\n",
       "      <th></th>\n",
       "      <th>volgnr</th>\n",
       "      <th>gebiedscode</th>\n",
       "      <th>naam_kort</th>\n",
       "      <th>naam</th>\n",
       "    </tr>\n",
       "  </thead>\n",
       "  <tbody>\n",
       "    <tr>\n",
       "      <th>0</th>\n",
       "      <td>1</td>\n",
       "      <td>41002</td>\n",
       "      <td>Aalst</td>\n",
       "      <td>Aalst</td>\n",
       "    </tr>\n",
       "    <tr>\n",
       "      <th>1</th>\n",
       "      <td>2</td>\n",
       "      <td>44001</td>\n",
       "      <td>Aalter</td>\n",
       "      <td>Aalter</td>\n",
       "    </tr>\n",
       "    <tr>\n",
       "      <th>2</th>\n",
       "      <td>3</td>\n",
       "      <td>24001</td>\n",
       "      <td>Aarschot</td>\n",
       "      <td>Aarschot</td>\n",
       "    </tr>\n",
       "    <tr>\n",
       "      <th>3</th>\n",
       "      <td>4</td>\n",
       "      <td>11001</td>\n",
       "      <td>Aartselaar</td>\n",
       "      <td>Aartselaar</td>\n",
       "    </tr>\n",
       "    <tr>\n",
       "      <th>4</th>\n",
       "      <td>5</td>\n",
       "      <td>23105</td>\n",
       "      <td>Affligem</td>\n",
       "      <td>Affligem</td>\n",
       "    </tr>\n",
       "  </tbody>\n",
       "</table>\n",
       "</div>"
      ],
      "text/plain": [
       "   volgnr  gebiedscode   naam_kort        naam\n",
       "0       1        41002       Aalst       Aalst\n",
       "1       2        44001      Aalter      Aalter\n",
       "2       3        24001    Aarschot    Aarschot\n",
       "3       4        11001  Aartselaar  Aartselaar\n",
       "4       5        23105    Affligem    Affligem"
      ]
     },
     "execution_count": 5,
     "metadata": {},
     "output_type": "execute_result"
    }
   ],
   "source": [
    "df.head()"
   ]
  },
  {
   "cell_type": "code",
   "execution_count": 6,
   "id": "offensive-letter",
   "metadata": {},
   "outputs": [],
   "source": [
    "dic = df.set_index('gebiedscode')['naam'].to_dict()"
   ]
  },
  {
   "cell_type": "code",
   "execution_count": 7,
   "id": "neutral-omaha",
   "metadata": {},
   "outputs": [
    {
     "name": "stdout",
     "output_type": "stream",
     "text": [
      "Writing to: ./config/json_config_dir/gemeente2018.json\n"
     ]
    }
   ],
   "source": [
    "write_json_file(dic, 'gemeente2018.json')"
   ]
  },
  {
   "cell_type": "markdown",
   "id": "secondary-portfolio",
   "metadata": {},
   "source": [
    "#### **Transform statsec.xlsx to json**"
   ]
  },
  {
   "cell_type": "code",
   "execution_count": 9,
   "id": "chief-right",
   "metadata": {},
   "outputs": [
    {
     "name": "stdout",
     "output_type": "stream",
     "text": [
      "./config/pinc_github_dir/statsec.xlsx\n"
     ]
    }
   ],
   "source": [
    "filename = 'statsec.xlsx'\n",
    "file = PINC_GITHUB_DIR + '/' + filename\n",
    "print(file)"
   ]
  },
  {
   "cell_type": "code",
   "execution_count": 10,
   "id": "hindu-bathroom",
   "metadata": {},
   "outputs": [],
   "source": [
    "df = pd.read_excel(file, engine='openpyxl')"
   ]
  },
  {
   "cell_type": "code",
   "execution_count": 11,
   "id": "suitable-serum",
   "metadata": {},
   "outputs": [
    {
     "data": {
      "text/html": [
       "<div>\n",
       "<style scoped>\n",
       "    .dataframe tbody tr th:only-of-type {\n",
       "        vertical-align: middle;\n",
       "    }\n",
       "\n",
       "    .dataframe tbody tr th {\n",
       "        vertical-align: top;\n",
       "    }\n",
       "\n",
       "    .dataframe thead th {\n",
       "        text-align: right;\n",
       "    }\n",
       "</style>\n",
       "<table border=\"1\" class=\"dataframe\">\n",
       "  <thead>\n",
       "    <tr style=\"text-align: right;\">\n",
       "      <th></th>\n",
       "      <th>volgnr</th>\n",
       "      <th>gebiedscode</th>\n",
       "      <th>naam_kort</th>\n",
       "      <th>naam</th>\n",
       "    </tr>\n",
       "  </thead>\n",
       "  <tbody>\n",
       "    <tr>\n",
       "      <th>0</th>\n",
       "      <td>1</td>\n",
       "      <td>35006B042</td>\n",
       "      <td>'s Gravendries</td>\n",
       "      <td>'s Gravendries (35006B042)</td>\n",
       "    </tr>\n",
       "    <tr>\n",
       "      <th>1</th>\n",
       "      <td>2</td>\n",
       "      <td>41024A200</td>\n",
       "      <td>'s Gravenkerselaar</td>\n",
       "      <td>'s Gravenkerselaar (41024A200)</td>\n",
       "    </tr>\n",
       "    <tr>\n",
       "      <th>2</th>\n",
       "      <td>3</td>\n",
       "      <td>33037B091</td>\n",
       "      <td>'s Graventafel - Goudberg - Kazakke</td>\n",
       "      <td>'s Graventafel - Goudberg - Kazakke (33037B091)</td>\n",
       "    </tr>\n",
       "    <tr>\n",
       "      <th>3</th>\n",
       "      <td>4</td>\n",
       "      <td>73109A091</td>\n",
       "      <td>'s Gravenvoeren -Verspr Bew</td>\n",
       "      <td>'s Gravenvoeren -Verspr Bew (73109A091)</td>\n",
       "    </tr>\n",
       "    <tr>\n",
       "      <th>4</th>\n",
       "      <td>5</td>\n",
       "      <td>73109A000</td>\n",
       "      <td>'s Gravenvoeren-Kern</td>\n",
       "      <td>'s Gravenvoeren-Kern (73109A000)</td>\n",
       "    </tr>\n",
       "  </tbody>\n",
       "</table>\n",
       "</div>"
      ],
      "text/plain": [
       "   volgnr gebiedscode                            naam_kort  \\\n",
       "0       1   35006B042                       's Gravendries   \n",
       "1       2   41024A200                   's Gravenkerselaar   \n",
       "2       3   33037B091  's Graventafel - Goudberg - Kazakke   \n",
       "3       4   73109A091          's Gravenvoeren -Verspr Bew   \n",
       "4       5   73109A000                 's Gravenvoeren-Kern   \n",
       "\n",
       "                                              naam  \n",
       "0                       's Gravendries (35006B042)  \n",
       "1                   's Gravenkerselaar (41024A200)  \n",
       "2  's Graventafel - Goudberg - Kazakke (33037B091)  \n",
       "3          's Gravenvoeren -Verspr Bew (73109A091)  \n",
       "4                 's Gravenvoeren-Kern (73109A000)  "
      ]
     },
     "execution_count": 11,
     "metadata": {},
     "output_type": "execute_result"
    }
   ],
   "source": [
    "df.head()"
   ]
  },
  {
   "cell_type": "code",
   "execution_count": 12,
   "id": "disturbed-confirmation",
   "metadata": {},
   "outputs": [],
   "source": [
    "dic = df.set_index('gebiedscode')['naam'].to_dict()"
   ]
  },
  {
   "cell_type": "code",
   "execution_count": 13,
   "id": "ecological-foundation",
   "metadata": {},
   "outputs": [
    {
     "name": "stdout",
     "output_type": "stream",
     "text": [
      "Writing to: ./config/json_config_dir/statsec.json\n"
     ]
    }
   ],
   "source": [
    "write_json_file(dic, 'statsec.json')"
   ]
  },
  {
   "cell_type": "markdown",
   "id": "polished-popularity",
   "metadata": {},
   "source": [
    "#### **Create provincies json**"
   ]
  },
  {
   "cell_type": "code",
   "execution_count": 5,
   "id": "helpful-maximum",
   "metadata": {},
   "outputs": [],
   "source": [
    "provincies_dict = {'Antwerpen (Prov.)': 10000,\n",
    "'Brussels Hoofdstedelijk Gewest': 4000,\n",
    " 'Limburg': 70000,\n",
    " 'Oost-Vlaanderen': 40000,\n",
    " 'Vlaams-Brabant': 20001,\n",
    " 'West-Vlaanderen':30000\n",
    "}"
   ]
  },
  {
   "cell_type": "code",
   "execution_count": 10,
   "id": "lasting-slovak",
   "metadata": {},
   "outputs": [
    {
     "name": "stdout",
     "output_type": "stream",
     "text": [
      "{10000: 'Antwerpen (Prov.)', 4000: 'Brussels Hoofdstedelijk Gewest', 70000: 'Limburg', 40000: 'Oost-Vlaanderen', 20001: 'Vlaams-Brabant', 30000: 'West-Vlaanderen'}\n"
     ]
    }
   ],
   "source": [
    "reversed_provincies_dict = {y:x for x,y in provincies_dict.items()}\n",
    "print(reversed_provincies_dict)"
   ]
  },
  {
   "cell_type": "code",
   "execution_count": 45,
   "id": "independent-resident",
   "metadata": {},
   "outputs": [
    {
     "name": "stdout",
     "output_type": "stream",
     "text": [
      "Writing to: ./config/json_config_dir/provincie.json\n"
     ]
    }
   ],
   "source": [
    "write_json_file(reversed_provincies_dict, 'provincie.json')"
   ]
  },
  {
   "cell_type": "code",
   "execution_count": null,
   "id": "possible-vietnamese",
   "metadata": {},
   "outputs": [],
   "source": []
  },
  {
   "cell_type": "markdown",
   "id": "working-stockholm",
   "metadata": {},
   "source": [
    "#### **Create arrondissement json**"
   ]
  },
  {
   "cell_type": "code",
   "execution_count": 10,
   "id": "conceptual-norway",
   "metadata": {},
   "outputs": [
    {
     "name": "stdout",
     "output_type": "stream",
     "text": [
      "./config/pinc_github_dir/arrondiss2018.xlsx\n"
     ]
    }
   ],
   "source": [
    "filename = 'arrondiss2018.xlsx'\n",
    "file = PINC_GITHUB_DIR + '/' + filename\n",
    "print(file)"
   ]
  },
  {
   "cell_type": "code",
   "execution_count": 11,
   "id": "corresponding-italy",
   "metadata": {},
   "outputs": [],
   "source": [
    "df = pd.read_excel(file, engine='openpyxl')"
   ]
  },
  {
   "cell_type": "code",
   "execution_count": 12,
   "id": "utility-dating",
   "metadata": {},
   "outputs": [
    {
     "data": {
      "text/html": [
       "<div>\n",
       "<style scoped>\n",
       "    .dataframe tbody tr th:only-of-type {\n",
       "        vertical-align: middle;\n",
       "    }\n",
       "\n",
       "    .dataframe tbody tr th {\n",
       "        vertical-align: top;\n",
       "    }\n",
       "\n",
       "    .dataframe thead th {\n",
       "        text-align: right;\n",
       "    }\n",
       "</style>\n",
       "<table border=\"1\" class=\"dataframe\">\n",
       "  <thead>\n",
       "    <tr style=\"text-align: right;\">\n",
       "      <th></th>\n",
       "      <th>volgnr</th>\n",
       "      <th>gebiedscode</th>\n",
       "      <th>naam_kort</th>\n",
       "      <th>naam</th>\n",
       "    </tr>\n",
       "  </thead>\n",
       "  <tbody>\n",
       "    <tr>\n",
       "      <th>0</th>\n",
       "      <td>1</td>\n",
       "      <td>41000</td>\n",
       "      <td>Aalst (Arr.)</td>\n",
       "      <td>Aalst (Arr.)</td>\n",
       "    </tr>\n",
       "    <tr>\n",
       "      <th>1</th>\n",
       "      <td>2</td>\n",
       "      <td>11000</td>\n",
       "      <td>Antwerpen (Arr.)</td>\n",
       "      <td>Antwerpen (Arr.)</td>\n",
       "    </tr>\n",
       "    <tr>\n",
       "      <th>2</th>\n",
       "      <td>3</td>\n",
       "      <td>31000</td>\n",
       "      <td>Brugge (Arr.)</td>\n",
       "      <td>Brugge (Arr.)</td>\n",
       "    </tr>\n",
       "    <tr>\n",
       "      <th>3</th>\n",
       "      <td>4</td>\n",
       "      <td>21000</td>\n",
       "      <td>Brussel (Arr.)</td>\n",
       "      <td>Brussel (Arr.)</td>\n",
       "    </tr>\n",
       "    <tr>\n",
       "      <th>4</th>\n",
       "      <td>5</td>\n",
       "      <td>42000</td>\n",
       "      <td>Dendermonde (Arr.)</td>\n",
       "      <td>Dendermonde (Arr.)</td>\n",
       "    </tr>\n",
       "  </tbody>\n",
       "</table>\n",
       "</div>"
      ],
      "text/plain": [
       "   volgnr  gebiedscode           naam_kort                naam\n",
       "0       1        41000        Aalst (Arr.)        Aalst (Arr.)\n",
       "1       2        11000    Antwerpen (Arr.)    Antwerpen (Arr.)\n",
       "2       3        31000       Brugge (Arr.)       Brugge (Arr.)\n",
       "3       4        21000      Brussel (Arr.)      Brussel (Arr.)\n",
       "4       5        42000  Dendermonde (Arr.)  Dendermonde (Arr.)"
      ]
     },
     "execution_count": 12,
     "metadata": {},
     "output_type": "execute_result"
    }
   ],
   "source": [
    "df.head()"
   ]
  },
  {
   "cell_type": "code",
   "execution_count": 13,
   "id": "medium-dietary",
   "metadata": {},
   "outputs": [],
   "source": [
    "dic = df.set_index('gebiedscode')['naam'].to_dict()"
   ]
  },
  {
   "cell_type": "code",
   "execution_count": 14,
   "id": "chronic-lawyer",
   "metadata": {},
   "outputs": [
    {
     "name": "stdout",
     "output_type": "stream",
     "text": [
      "Writing to: ./config/json_config_dir/arrondiss2018.json\n"
     ]
    }
   ],
   "source": [
    "write_json_file(dic, 'arrondiss2018.json')"
   ]
  },
  {
   "cell_type": "code",
   "execution_count": null,
   "id": "recreational-bloom",
   "metadata": {},
   "outputs": [],
   "source": []
  }
 ],
 "metadata": {
  "kernelspec": {
   "display_name": "Python 3",
   "language": "python",
   "name": "python3"
  },
  "language_info": {
   "codemirror_mode": {
    "name": "ipython",
    "version": 3
   },
   "file_extension": ".py",
   "mimetype": "text/x-python",
   "name": "python",
   "nbconvert_exporter": "python",
   "pygments_lexer": "ipython3",
   "version": "3.8.2"
  }
 },
 "nbformat": 4,
 "nbformat_minor": 5
}
