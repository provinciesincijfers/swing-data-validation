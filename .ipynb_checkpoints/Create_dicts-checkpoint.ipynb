{
 "cells": [
  {
   "cell_type": "code",
   "execution_count": 1,
   "id": "demographic-journalism",
   "metadata": {},
   "outputs": [],
   "source": [
    "%reload_ext autoreload\n",
    "%autoreload 2"
   ]
  },
  {
   "cell_type": "markdown",
   "id": "adaptive-above",
   "metadata": {},
   "source": [
    "## **Transform github excel gebiedsdefinities to json, in format {code : level_name}**"
   ]
  },
  {
   "cell_type": "code",
   "execution_count": 2,
   "id": "downtown-edwards",
   "metadata": {},
   "outputs": [],
   "source": [
    "import os\n",
    "import pandas as pd\n",
    "import json\n",
    "\n",
    "from settings import PINC_GITHUB_DIR, JSON_CONF_DIR\n",
    "from util.misc import write_json_file"
   ]
  },
  {
   "cell_type": "markdown",
   "id": "pacific-delivery",
   "metadata": {},
   "source": [
    "#### **Transform gemeente.xlsx to json**"
   ]
  },
  {
   "cell_type": "code",
   "execution_count": 3,
   "id": "third-treasure",
   "metadata": {},
   "outputs": [
    {
     "name": "stdout",
     "output_type": "stream",
     "text": [
      "./config/pinc_github_dir/gemeente.xlsx\n"
     ]
    }
   ],
   "source": [
    "filename = 'gemeente.xlsx'\n",
    "file = PINC_GITHUB_DIR + '/' + filename\n",
    "print(file)"
   ]
  },
  {
   "cell_type": "code",
   "execution_count": 4,
   "id": "improving-brooks",
   "metadata": {},
   "outputs": [],
   "source": [
    "df = pd.read_excel(file, engine='openpyxl')"
   ]
  },
  {
   "cell_type": "code",
   "execution_count": 5,
   "id": "sublime-freeze",
   "metadata": {},
   "outputs": [
    {
     "data": {
      "text/html": [
       "<div>\n",
       "<style scoped>\n",
       "    .dataframe tbody tr th:only-of-type {\n",
       "        vertical-align: middle;\n",
       "    }\n",
       "\n",
       "    .dataframe tbody tr th {\n",
       "        vertical-align: top;\n",
       "    }\n",
       "\n",
       "    .dataframe thead th {\n",
       "        text-align: right;\n",
       "    }\n",
       "</style>\n",
       "<table border=\"1\" class=\"dataframe\">\n",
       "  <thead>\n",
       "    <tr style=\"text-align: right;\">\n",
       "      <th></th>\n",
       "      <th>volgnr</th>\n",
       "      <th>gebiedscode</th>\n",
       "      <th>naam_kort</th>\n",
       "      <th>naam</th>\n",
       "    </tr>\n",
       "  </thead>\n",
       "  <tbody>\n",
       "    <tr>\n",
       "      <th>0</th>\n",
       "      <td>1</td>\n",
       "      <td>41002</td>\n",
       "      <td>Aalst</td>\n",
       "      <td>Aalst</td>\n",
       "    </tr>\n",
       "    <tr>\n",
       "      <th>1</th>\n",
       "      <td>2</td>\n",
       "      <td>44084</td>\n",
       "      <td>Aalter</td>\n",
       "      <td>Aalter</td>\n",
       "    </tr>\n",
       "    <tr>\n",
       "      <th>2</th>\n",
       "      <td>3</td>\n",
       "      <td>24001</td>\n",
       "      <td>Aarschot</td>\n",
       "      <td>Aarschot</td>\n",
       "    </tr>\n",
       "    <tr>\n",
       "      <th>3</th>\n",
       "      <td>4</td>\n",
       "      <td>11001</td>\n",
       "      <td>Aartselaar</td>\n",
       "      <td>Aartselaar</td>\n",
       "    </tr>\n",
       "    <tr>\n",
       "      <th>4</th>\n",
       "      <td>5</td>\n",
       "      <td>23105</td>\n",
       "      <td>Affligem</td>\n",
       "      <td>Affligem</td>\n",
       "    </tr>\n",
       "  </tbody>\n",
       "</table>\n",
       "</div>"
      ],
      "text/plain": [
       "   volgnr  gebiedscode   naam_kort        naam\n",
       "0       1        41002       Aalst       Aalst\n",
       "1       2        44084      Aalter      Aalter\n",
       "2       3        24001    Aarschot    Aarschot\n",
       "3       4        11001  Aartselaar  Aartselaar\n",
       "4       5        23105    Affligem    Affligem"
      ]
     },
     "execution_count": 5,
     "metadata": {},
     "output_type": "execute_result"
    }
   ],
   "source": [
    "df.head()"
   ]
  },
  {
   "cell_type": "code",
   "execution_count": 6,
   "id": "violent-recycling",
   "metadata": {},
   "outputs": [],
   "source": [
    "dic = df.set_index('gebiedscode')['naam'].to_dict()"
   ]
  },
  {
   "cell_type": "code",
   "execution_count": 8,
   "id": "spanish-approval",
   "metadata": {},
   "outputs": [
    {
     "name": "stdout",
     "output_type": "stream",
     "text": [
      "Writing to: ./config/json_config_dir/gemeente.json\n"
     ]
    }
   ],
   "source": [
    "write_json_file(dic, 'gemeente.json')"
   ]
  },
  {
   "cell_type": "markdown",
   "id": "smooth-bubble",
   "metadata": {},
   "source": [
    "#### **Transform statsec.xlsx to json**"
   ]
  },
  {
   "cell_type": "code",
   "execution_count": 9,
   "id": "clinical-strengthening",
   "metadata": {},
   "outputs": [
    {
     "name": "stdout",
     "output_type": "stream",
     "text": [
      "./config/pinc_github_dir/statsec.xlsx\n"
     ]
    }
   ],
   "source": [
    "filename = 'statsec.xlsx'\n",
    "file = PINC_GITHUB_DIR + '/' + filename\n",
    "print(file)"
   ]
  },
  {
   "cell_type": "code",
   "execution_count": 10,
   "id": "suitable-slovak",
   "metadata": {},
   "outputs": [],
   "source": [
    "df = pd.read_excel(file, engine='openpyxl')"
   ]
  },
  {
   "cell_type": "code",
   "execution_count": 11,
   "id": "binding-funeral",
   "metadata": {},
   "outputs": [
    {
     "data": {
      "text/html": [
       "<div>\n",
       "<style scoped>\n",
       "    .dataframe tbody tr th:only-of-type {\n",
       "        vertical-align: middle;\n",
       "    }\n",
       "\n",
       "    .dataframe tbody tr th {\n",
       "        vertical-align: top;\n",
       "    }\n",
       "\n",
       "    .dataframe thead th {\n",
       "        text-align: right;\n",
       "    }\n",
       "</style>\n",
       "<table border=\"1\" class=\"dataframe\">\n",
       "  <thead>\n",
       "    <tr style=\"text-align: right;\">\n",
       "      <th></th>\n",
       "      <th>volgnr</th>\n",
       "      <th>gebiedscode</th>\n",
       "      <th>naam_kort</th>\n",
       "      <th>naam</th>\n",
       "    </tr>\n",
       "  </thead>\n",
       "  <tbody>\n",
       "    <tr>\n",
       "      <th>0</th>\n",
       "      <td>1</td>\n",
       "      <td>35006B042</td>\n",
       "      <td>'s Gravendries</td>\n",
       "      <td>'s Gravendries (35006B042)</td>\n",
       "    </tr>\n",
       "    <tr>\n",
       "      <th>1</th>\n",
       "      <td>2</td>\n",
       "      <td>41024A200</td>\n",
       "      <td>'s Gravenkerselaar</td>\n",
       "      <td>'s Gravenkerselaar (41024A200)</td>\n",
       "    </tr>\n",
       "    <tr>\n",
       "      <th>2</th>\n",
       "      <td>3</td>\n",
       "      <td>33037B091</td>\n",
       "      <td>'s Graventafel - Goudberg - Kazakke</td>\n",
       "      <td>'s Graventafel - Goudberg - Kazakke (33037B091)</td>\n",
       "    </tr>\n",
       "    <tr>\n",
       "      <th>3</th>\n",
       "      <td>4</td>\n",
       "      <td>73109A091</td>\n",
       "      <td>'s Gravenvoeren -Verspr Bew</td>\n",
       "      <td>'s Gravenvoeren -Verspr Bew (73109A091)</td>\n",
       "    </tr>\n",
       "    <tr>\n",
       "      <th>4</th>\n",
       "      <td>5</td>\n",
       "      <td>73109A000</td>\n",
       "      <td>'s Gravenvoeren-Kern</td>\n",
       "      <td>'s Gravenvoeren-Kern (73109A000)</td>\n",
       "    </tr>\n",
       "  </tbody>\n",
       "</table>\n",
       "</div>"
      ],
      "text/plain": [
       "   volgnr gebiedscode                            naam_kort  \\\n",
       "0       1   35006B042                       's Gravendries   \n",
       "1       2   41024A200                   's Gravenkerselaar   \n",
       "2       3   33037B091  's Graventafel - Goudberg - Kazakke   \n",
       "3       4   73109A091          's Gravenvoeren -Verspr Bew   \n",
       "4       5   73109A000                 's Gravenvoeren-Kern   \n",
       "\n",
       "                                              naam  \n",
       "0                       's Gravendries (35006B042)  \n",
       "1                   's Gravenkerselaar (41024A200)  \n",
       "2  's Graventafel - Goudberg - Kazakke (33037B091)  \n",
       "3          's Gravenvoeren -Verspr Bew (73109A091)  \n",
       "4                 's Gravenvoeren-Kern (73109A000)  "
      ]
     },
     "execution_count": 11,
     "metadata": {},
     "output_type": "execute_result"
    }
   ],
   "source": [
    "df.head()"
   ]
  },
  {
   "cell_type": "code",
   "execution_count": 12,
   "id": "unlikely-payment",
   "metadata": {},
   "outputs": [],
   "source": [
    "dic = df.set_index('gebiedscode')['naam'].to_dict()"
   ]
  },
  {
   "cell_type": "code",
   "execution_count": 13,
   "id": "arctic-destination",
   "metadata": {},
   "outputs": [
    {
     "name": "stdout",
     "output_type": "stream",
     "text": [
      "Writing to: ./config/json_config_dir/statsec.json\n"
     ]
    }
   ],
   "source": [
    "write_json_file(dic, 'statsec.json')"
   ]
  },
  {
   "cell_type": "markdown",
   "id": "numerical-locking",
   "metadata": {},
   "source": [
    "#### **Create provincies json**"
   ]
  },
  {
   "cell_type": "code",
   "execution_count": 5,
   "id": "sensitive-cowboy",
   "metadata": {},
   "outputs": [],
   "source": [
    "provincies_dict = {'Antwerpen (Prov.)': 10000,\n",
    "'Brussels Hoofdstedelijk Gewest': 4000,\n",
    " 'Limburg': 70000,\n",
    " 'Oost-Vlaanderen': 40000,\n",
    " 'Vlaams-Brabant': 20001,\n",
    " 'West-Vlaanderen':30000\n",
    "}"
   ]
  },
  {
   "cell_type": "code",
   "execution_count": 10,
   "id": "sacred-surrey",
   "metadata": {},
   "outputs": [
    {
     "name": "stdout",
     "output_type": "stream",
     "text": [
      "{10000: 'Antwerpen (Prov.)', 4000: 'Brussels Hoofdstedelijk Gewest', 70000: 'Limburg', 40000: 'Oost-Vlaanderen', 20001: 'Vlaams-Brabant', 30000: 'West-Vlaanderen'}\n"
     ]
    }
   ],
   "source": [
    "reversed_provincies_dict = {y:x for x,y in provincies_dict.items()}\n",
    "print(reversed_provincies_dict)"
   ]
  },
  {
   "cell_type": "code",
   "execution_count": 45,
   "id": "regulation-samoa",
   "metadata": {},
   "outputs": [
    {
     "name": "stdout",
     "output_type": "stream",
     "text": [
      "Writing to: ./config/json_config_dir/provincie.json\n"
     ]
    }
   ],
   "source": [
    "write_json_file(reversed_provincies_dict, 'provincie.json')"
   ]
  },
  {
   "cell_type": "code",
   "execution_count": null,
   "id": "worldwide-google",
   "metadata": {},
   "outputs": [],
   "source": []
  }
 ],
 "metadata": {
  "kernelspec": {
   "display_name": "Python 3",
   "language": "python",
   "name": "python3"
  },
  "language_info": {
   "codemirror_mode": {
    "name": "ipython",
    "version": 3
   },
   "file_extension": ".py",
   "mimetype": "text/x-python",
   "name": "python",
   "nbconvert_exporter": "python",
   "pygments_lexer": "ipython3",
   "version": "3.8.2"
  }
 },
 "nbformat": 4,
 "nbformat_minor": 5
}
