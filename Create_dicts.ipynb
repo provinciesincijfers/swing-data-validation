{
 "cells": [
  {
   "cell_type": "markdown",
   "id": "sacred-trouble",
   "metadata": {},
   "source": [
    "## **Transform github excel gebiedsdefinities to json, in format {code : level_name}**"
   ]
  },
  {
   "cell_type": "code",
   "execution_count": 1,
   "id": "white-accreditation",
   "metadata": {},
   "outputs": [],
   "source": [
    "import os\n",
    "import pandas as pd\n",
    "import json\n",
    "\n",
    "from settings import PINC_GITHUB_DIR, JSON_CONF_DIR\n",
    "from util.misc import write_json_file"
   ]
  },
  {
   "cell_type": "markdown",
   "id": "female-professional",
   "metadata": {},
   "source": [
    "#### **Transform gewest.xlsx to json**"
   ]
  },
  {
   "cell_type": "code",
   "execution_count": 2,
   "id": "fleet-sweden",
   "metadata": {},
   "outputs": [
    {
     "name": "stdout",
     "output_type": "stream",
     "text": [
      "./config/pinc_github_dir/gewest.xlsx\n"
     ]
    }
   ],
   "source": [
    "filename = 'gewest.xlsx'\n",
    "file = PINC_GITHUB_DIR + '/' + filename\n",
    "print(file)"
   ]
  },
  {
   "cell_type": "code",
   "execution_count": 3,
   "id": "geological-concert",
   "metadata": {},
   "outputs": [],
   "source": [
    "df = pd.read_excel(file, engine='openpyxl')"
   ]
  },
  {
   "cell_type": "code",
   "execution_count": 4,
   "id": "forced-humanity",
   "metadata": {},
   "outputs": [
    {
     "data": {
      "text/html": [
       "<div>\n",
       "<style scoped>\n",
       "    .dataframe tbody tr th:only-of-type {\n",
       "        vertical-align: middle;\n",
       "    }\n",
       "\n",
       "    .dataframe tbody tr th {\n",
       "        vertical-align: top;\n",
       "    }\n",
       "\n",
       "    .dataframe thead th {\n",
       "        text-align: right;\n",
       "    }\n",
       "</style>\n",
       "<table border=\"1\" class=\"dataframe\">\n",
       "  <thead>\n",
       "    <tr style=\"text-align: right;\">\n",
       "      <th></th>\n",
       "      <th>volgnr</th>\n",
       "      <th>gebiedscode</th>\n",
       "      <th>naam_kort</th>\n",
       "      <th>naam</th>\n",
       "    </tr>\n",
       "  </thead>\n",
       "  <tbody>\n",
       "    <tr>\n",
       "      <th>0</th>\n",
       "      <td>1</td>\n",
       "      <td>2000</td>\n",
       "      <td>Vlaams Gewest</td>\n",
       "      <td>Vlaams Gewest</td>\n",
       "    </tr>\n",
       "    <tr>\n",
       "      <th>1</th>\n",
       "      <td>2</td>\n",
       "      <td>4000</td>\n",
       "      <td>Brussels Hoofdstedelijk Gewest</td>\n",
       "      <td>Brussels Hoofdstedelijk Gewest</td>\n",
       "    </tr>\n",
       "    <tr>\n",
       "      <th>2</th>\n",
       "      <td>3</td>\n",
       "      <td>99999</td>\n",
       "      <td>Gewest onbekend</td>\n",
       "      <td>Gewest onbekend</td>\n",
       "    </tr>\n",
       "  </tbody>\n",
       "</table>\n",
       "</div>"
      ],
      "text/plain": [
       "   volgnr  gebiedscode                       naam_kort  \\\n",
       "0       1         2000                   Vlaams Gewest   \n",
       "1       2         4000  Brussels Hoofdstedelijk Gewest   \n",
       "2       3        99999                 Gewest onbekend   \n",
       "\n",
       "                             naam  \n",
       "0                   Vlaams Gewest  \n",
       "1  Brussels Hoofdstedelijk Gewest  \n",
       "2                 Gewest onbekend  "
      ]
     },
     "execution_count": 4,
     "metadata": {},
     "output_type": "execute_result"
    }
   ],
   "source": [
    "df.head()"
   ]
  },
  {
   "cell_type": "code",
   "execution_count": 5,
   "id": "civic-aruba",
   "metadata": {},
   "outputs": [],
   "source": [
    "dic = df.set_index('gebiedscode')['naam'].to_dict()"
   ]
  },
  {
   "cell_type": "code",
   "execution_count": 6,
   "id": "impressive-battery",
   "metadata": {},
   "outputs": [
    {
     "name": "stdout",
     "output_type": "stream",
     "text": [
      "Writing to: ./config/json_config_dir/gewest.json\n"
     ]
    }
   ],
   "source": [
    "write_json_file(dic, 'gewest.json')"
   ]
  },
  {
   "cell_type": "markdown",
   "id": "electronic-tender",
   "metadata": {},
   "source": [
    "#### **Transform gemeente.xlsx to json**"
   ]
  },
  {
   "cell_type": "code",
   "execution_count": 7,
   "id": "stopped-congress",
   "metadata": {},
   "outputs": [
    {
     "name": "stdout",
     "output_type": "stream",
     "text": [
      "./config/pinc_github_dir/gemeente.xlsx\n"
     ]
    }
   ],
   "source": [
    "filename = 'gemeente.xlsx'\n",
    "file = PINC_GITHUB_DIR + '/' + filename\n",
    "print(file)"
   ]
  },
  {
   "cell_type": "code",
   "execution_count": 8,
   "id": "growing-convertible",
   "metadata": {},
   "outputs": [],
   "source": [
    "df = pd.read_excel(file, engine='openpyxl')"
   ]
  },
  {
   "cell_type": "code",
   "execution_count": 9,
   "id": "straight-poker",
   "metadata": {},
   "outputs": [
    {
     "data": {
      "text/html": [
       "<div>\n",
       "<style scoped>\n",
       "    .dataframe tbody tr th:only-of-type {\n",
       "        vertical-align: middle;\n",
       "    }\n",
       "\n",
       "    .dataframe tbody tr th {\n",
       "        vertical-align: top;\n",
       "    }\n",
       "\n",
       "    .dataframe thead th {\n",
       "        text-align: right;\n",
       "    }\n",
       "</style>\n",
       "<table border=\"1\" class=\"dataframe\">\n",
       "  <thead>\n",
       "    <tr style=\"text-align: right;\">\n",
       "      <th></th>\n",
       "      <th>volgnr</th>\n",
       "      <th>gebiedscode</th>\n",
       "      <th>naam_kort</th>\n",
       "      <th>naam</th>\n",
       "    </tr>\n",
       "  </thead>\n",
       "  <tbody>\n",
       "    <tr>\n",
       "      <th>0</th>\n",
       "      <td>1</td>\n",
       "      <td>41002</td>\n",
       "      <td>Aalst</td>\n",
       "      <td>Aalst</td>\n",
       "    </tr>\n",
       "    <tr>\n",
       "      <th>1</th>\n",
       "      <td>2</td>\n",
       "      <td>44084</td>\n",
       "      <td>Aalter</td>\n",
       "      <td>Aalter</td>\n",
       "    </tr>\n",
       "    <tr>\n",
       "      <th>2</th>\n",
       "      <td>3</td>\n",
       "      <td>24001</td>\n",
       "      <td>Aarschot</td>\n",
       "      <td>Aarschot</td>\n",
       "    </tr>\n",
       "    <tr>\n",
       "      <th>3</th>\n",
       "      <td>4</td>\n",
       "      <td>11001</td>\n",
       "      <td>Aartselaar</td>\n",
       "      <td>Aartselaar</td>\n",
       "    </tr>\n",
       "    <tr>\n",
       "      <th>4</th>\n",
       "      <td>5</td>\n",
       "      <td>23105</td>\n",
       "      <td>Affligem</td>\n",
       "      <td>Affligem</td>\n",
       "    </tr>\n",
       "  </tbody>\n",
       "</table>\n",
       "</div>"
      ],
      "text/plain": [
       "   volgnr  gebiedscode   naam_kort        naam\n",
       "0       1        41002       Aalst       Aalst\n",
       "1       2        44084      Aalter      Aalter\n",
       "2       3        24001    Aarschot    Aarschot\n",
       "3       4        11001  Aartselaar  Aartselaar\n",
       "4       5        23105    Affligem    Affligem"
      ]
     },
     "execution_count": 9,
     "metadata": {},
     "output_type": "execute_result"
    }
   ],
   "source": [
    "df.head()"
   ]
  },
  {
   "cell_type": "code",
   "execution_count": 10,
   "id": "encouraging-anime",
   "metadata": {},
   "outputs": [],
   "source": [
    "dic = df.set_index('gebiedscode')['naam'].to_dict()"
   ]
  },
  {
   "cell_type": "code",
   "execution_count": 11,
   "id": "level-clause",
   "metadata": {},
   "outputs": [
    {
     "name": "stdout",
     "output_type": "stream",
     "text": [
      "Writing to: ./config/json_config_dir/gemeente.json\n"
     ]
    }
   ],
   "source": [
    "write_json_file(dic, 'gemeente.json')"
   ]
  },
  {
   "cell_type": "markdown",
   "id": "brave-frost",
   "metadata": {},
   "source": [
    "#### **Transform gemeente2018.xlsx to json**"
   ]
  },
  {
   "cell_type": "code",
   "execution_count": null,
   "id": "dedicated-shaft",
   "metadata": {},
   "outputs": [],
   "source": [
    "filename = 'gemeente2018.xlsx'\n",
    "file = PINC_GITHUB_DIR + '/' + filename\n",
    "print(file)"
   ]
  },
  {
   "cell_type": "code",
   "execution_count": null,
   "id": "atomic-wiring",
   "metadata": {},
   "outputs": [],
   "source": [
    "df = pd.read_excel(file, engine='openpyxl')"
   ]
  },
  {
   "cell_type": "code",
   "execution_count": null,
   "id": "constant-excess",
   "metadata": {},
   "outputs": [],
   "source": [
    "df.head()"
   ]
  },
  {
   "cell_type": "code",
   "execution_count": null,
   "id": "fantastic-configuration",
   "metadata": {},
   "outputs": [],
   "source": [
    "dic = df.set_index('gebiedscode')['naam'].to_dict()"
   ]
  },
  {
   "cell_type": "code",
   "execution_count": null,
   "id": "small-bankruptcy",
   "metadata": {},
   "outputs": [],
   "source": [
    "write_json_file(dic, 'gemeente2018.json')"
   ]
  },
  {
   "cell_type": "markdown",
   "id": "verified-pixel",
   "metadata": {},
   "source": [
    "#### **Transform statsec.xlsx to json**"
   ]
  },
  {
   "cell_type": "code",
   "execution_count": null,
   "id": "subsequent-trouble",
   "metadata": {},
   "outputs": [],
   "source": [
    "filename = 'statsec.xlsx'\n",
    "file = PINC_GITHUB_DIR + '/' + filename\n",
    "print(file)"
   ]
  },
  {
   "cell_type": "code",
   "execution_count": null,
   "id": "permanent-queue",
   "metadata": {},
   "outputs": [],
   "source": [
    "df = pd.read_excel(file, engine='openpyxl')"
   ]
  },
  {
   "cell_type": "code",
   "execution_count": null,
   "id": "coordinate-decimal",
   "metadata": {},
   "outputs": [],
   "source": [
    "df.head()"
   ]
  },
  {
   "cell_type": "code",
   "execution_count": null,
   "id": "proprietary-opinion",
   "metadata": {},
   "outputs": [],
   "source": [
    "dic = df.set_index('gebiedscode')['naam'].to_dict()"
   ]
  },
  {
   "cell_type": "code",
   "execution_count": null,
   "id": "usual-adobe",
   "metadata": {},
   "outputs": [],
   "source": [
    "write_json_file(dic, 'statsec.json')"
   ]
  },
  {
   "cell_type": "markdown",
   "id": "announced-rebound",
   "metadata": {},
   "source": [
    "#### **Create provincies json**"
   ]
  },
  {
   "cell_type": "code",
   "execution_count": null,
   "id": "third-spice",
   "metadata": {},
   "outputs": [],
   "source": [
    "provincies_dict = {'Antwerpen (Prov.)': 10000,\n",
    "'Brussels Hoofdstedelijk Gewest': 4000,\n",
    " 'Limburg': 70000,\n",
    " 'Oost-Vlaanderen': 40000,\n",
    " 'Vlaams-Brabant': 20001,\n",
    " 'West-Vlaanderen':30000\n",
    "}"
   ]
  },
  {
   "cell_type": "code",
   "execution_count": null,
   "id": "ahead-joint",
   "metadata": {},
   "outputs": [],
   "source": [
    "reversed_provincies_dict = {y:x for x,y in provincies_dict.items()}\n",
    "print(reversed_provincies_dict)"
   ]
  },
  {
   "cell_type": "code",
   "execution_count": null,
   "id": "phantom-chase",
   "metadata": {},
   "outputs": [],
   "source": [
    "write_json_file(reversed_provincies_dict, 'provincie.json')"
   ]
  },
  {
   "cell_type": "code",
   "execution_count": null,
   "id": "numerical-strike",
   "metadata": {},
   "outputs": [],
   "source": []
  },
  {
   "cell_type": "markdown",
   "id": "declared-legislature",
   "metadata": {},
   "source": [
    "#### **Create arrondissement json**"
   ]
  },
  {
   "cell_type": "code",
   "execution_count": null,
   "id": "bound-swift",
   "metadata": {},
   "outputs": [],
   "source": [
    "filename = 'arrondiss2018.xlsx'\n",
    "file = PINC_GITHUB_DIR + '/' + filename\n",
    "print(file)"
   ]
  },
  {
   "cell_type": "code",
   "execution_count": null,
   "id": "enabling-attraction",
   "metadata": {},
   "outputs": [],
   "source": [
    "df = pd.read_excel(file, engine='openpyxl')"
   ]
  },
  {
   "cell_type": "code",
   "execution_count": null,
   "id": "sized-spanish",
   "metadata": {},
   "outputs": [],
   "source": [
    "df.head()"
   ]
  },
  {
   "cell_type": "code",
   "execution_count": null,
   "id": "stopped-debate",
   "metadata": {},
   "outputs": [],
   "source": [
    "dic = df.set_index('gebiedscode')['naam'].to_dict()"
   ]
  },
  {
   "cell_type": "code",
   "execution_count": null,
   "id": "bottom-addiction",
   "metadata": {},
   "outputs": [],
   "source": [
    "write_json_file(dic, 'arrondiss2018.json')"
   ]
  },
  {
   "cell_type": "code",
   "execution_count": null,
   "id": "superb-position",
   "metadata": {},
   "outputs": [],
   "source": []
  }
 ],
 "metadata": {
  "kernelspec": {
   "display_name": "Python 3",
   "language": "python",
   "name": "python3"
  },
  "language_info": {
   "codemirror_mode": {
    "name": "ipython",
    "version": 3
   },
   "file_extension": ".py",
   "mimetype": "text/x-python",
   "name": "python",
   "nbconvert_exporter": "python",
   "pygments_lexer": "ipython3",
   "version": "3.8.2"
  }
 },
 "nbformat": 4,
 "nbformat_minor": 5
}
