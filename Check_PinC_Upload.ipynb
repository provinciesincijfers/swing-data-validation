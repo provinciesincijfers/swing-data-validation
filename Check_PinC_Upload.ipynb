{
 "cells": [
  {
   "cell_type": "markdown",
   "metadata": {},
   "source": [
    "## **Parameters/inputs/imports**"
   ]
  },
  {
   "cell_type": "markdown",
   "metadata": {},
   "source": [
    "#### **Imports**"
   ]
  },
  {
   "cell_type": "code",
   "execution_count": 1,
   "metadata": {},
   "outputs": [],
   "source": [
    "import pandas as pd\n",
    "\n",
    "from ipywidgets import interact, fixed, interactive\n",
    "import ipywidgets as widgets\n",
    "\n",
    "from stadincijfers._stadincijfers import stadincijfers\n",
    "\n",
    "from settings import UPLOAD_DIR\n",
    "from util.misc import _read_excel, _read_excel_lower\n",
    "from util.parse_df import Parse_df\n",
    "from util.conn_pinc_data import Conn_pinc_data"
   ]
  },
  {
   "cell_type": "markdown",
   "metadata": {},
   "source": [
    "#### **Parameters**"
   ]
  },
  {
   "cell_type": "code",
   "execution_count": 8,
   "metadata": {},
   "outputs": [],
   "source": [
    "all_pinc_periods = False"
   ]
  },
  {
   "cell_type": "markdown",
   "metadata": {},
   "source": [
    "#### **PinC upload file**"
   ]
  },
  {
   "cell_type": "code",
   "execution_count": 9,
   "metadata": {},
   "outputs": [
    {
     "name": "stdout",
     "output_type": "stream",
     "text": [
      "./upload_pinc/v2707_zorgboerderijen.xlsx\n"
     ]
    }
   ],
   "source": [
    "#filename = '20210623_Upload crimi en verkeer.xlsx'\n",
    "filename = 'v2707_zorgboerderijen.xlsx'\n",
    "file = UPLOAD_DIR + '/' + filename\n",
    "print(file)"
   ]
  },
  {
   "cell_type": "markdown",
   "metadata": {},
   "source": [
    "#### **Import PinC upload file for validation**"
   ]
  },
  {
   "cell_type": "code",
   "execution_count": 10,
   "metadata": {},
   "outputs": [],
   "source": [
    "data_table = _read_excel_lower(file,sheet_name=0)"
   ]
  },
  {
   "cell_type": "code",
   "execution_count": 11,
   "metadata": {},
   "outputs": [
    {
     "data": {
      "text/html": [
       "<div>\n",
       "<style scoped>\n",
       "    .dataframe tbody tr th:only-of-type {\n",
       "        vertical-align: middle;\n",
       "    }\n",
       "\n",
       "    .dataframe tbody tr th {\n",
       "        vertical-align: top;\n",
       "    }\n",
       "\n",
       "    .dataframe thead th {\n",
       "        text-align: right;\n",
       "    }\n",
       "</style>\n",
       "<table border=\"1\" class=\"dataframe\">\n",
       "  <thead>\n",
       "    <tr style=\"text-align: right;\">\n",
       "      <th></th>\n",
       "      <th>period</th>\n",
       "      <th>geolevel</th>\n",
       "      <th>geoitem</th>\n",
       "      <th>v2707_lb_lbexploi_zorg_lnt</th>\n",
       "      <th>v2707_lb_lbexploi_zorg_ander</th>\n",
       "    </tr>\n",
       "  </thead>\n",
       "  <tbody>\n",
       "    <tr>\n",
       "      <th>0</th>\n",
       "      <td>2016</td>\n",
       "      <td>gemeente2018</td>\n",
       "      <td>11001</td>\n",
       "      <td>1</td>\n",
       "      <td>0</td>\n",
       "    </tr>\n",
       "    <tr>\n",
       "      <th>1</th>\n",
       "      <td>2016</td>\n",
       "      <td>gemeente2018</td>\n",
       "      <td>11002</td>\n",
       "      <td>2</td>\n",
       "      <td>5</td>\n",
       "    </tr>\n",
       "  </tbody>\n",
       "</table>\n",
       "</div>"
      ],
      "text/plain": [
       "  period      geolevel geoitem v2707_lb_lbexploi_zorg_lnt   \\\n",
       "0   2016  gemeente2018   11001                           1   \n",
       "1   2016  gemeente2018   11002                           2   \n",
       "\n",
       "  v2707_lb_lbexploi_zorg_ander  \n",
       "0                            0  \n",
       "1                            5  "
      ]
     },
     "execution_count": 11,
     "metadata": {},
     "output_type": "execute_result"
    }
   ],
   "source": [
    "data_table.head(2)"
   ]
  },
  {
   "cell_type": "markdown",
   "metadata": {},
   "source": [
    "#### **Parse data_table**"
   ]
  },
  {
   "cell_type": "code",
   "execution_count": 12,
   "metadata": {},
   "outputs": [],
   "source": [
    "parsed_df = Parse_df(data_table)"
   ]
  },
  {
   "cell_type": "code",
   "execution_count": 13,
   "metadata": {},
   "outputs": [
    {
     "name": "stdout",
     "output_type": "stream",
     "text": [
      "List of upload table years: ['2016', '2017', '2018', '2019', '2020', '2021', '2022']\n",
      "Period list for Pinc Query: 2016, 2017, 2018, 2019, 2020, 2021, 2022 \n",
      "\n",
      "Indicator list for PinC Query: v2707_lb_lbexploi_zorg_lnt ,v2707_lb_lbexploi_zorg_ander \n",
      "\n",
      "Geolevel for PinC Query: gemeente2018\n"
     ]
    }
   ],
   "source": [
    "period_list_pinc_query = parsed_df.determine_years(all_pinc_periods, _ind_id = 0)\n",
    "print(f'Period list for Pinc Query: {period_list_pinc_query} \\n')\n",
    "var_list_pinc_query = parsed_df.determine_indicators()\n",
    "print(f'Indicator list for PinC Query: {var_list_pinc_query} \\n')\n",
    "geolevel = parsed_df.determine_geolevel()\n",
    "print(f'Geolevel for PinC Query: {geolevel}')"
   ]
  },
  {
   "cell_type": "markdown",
   "metadata": {},
   "source": [
    "#### **PinC Query**"
   ]
  },
  {
   "cell_type": "code",
   "execution_count": 14,
   "metadata": {},
   "outputs": [],
   "source": [
    "# Instantiate object from class\n",
    "pinc = stadincijfers(\"provincies\")"
   ]
  },
  {
   "cell_type": "code",
   "execution_count": 15,
   "metadata": {},
   "outputs": [],
   "source": [
    "pinc_table = pinc.selectiontableasDataframe(var_list_pinc_query, geolevel=geolevel, periodlevel='year',period=period_list_pinc_query)"
   ]
  },
  {
   "cell_type": "code",
   "execution_count": 16,
   "metadata": {},
   "outputs": [
    {
     "data": {
      "text/html": [
       "<div>\n",
       "<style scoped>\n",
       "    .dataframe tbody tr th:only-of-type {\n",
       "        vertical-align: middle;\n",
       "    }\n",
       "\n",
       "    .dataframe tbody tr th {\n",
       "        vertical-align: top;\n",
       "    }\n",
       "\n",
       "    .dataframe thead th {\n",
       "        text-align: right;\n",
       "    }\n",
       "</style>\n",
       "<table border=\"1\" class=\"dataframe\">\n",
       "  <thead>\n",
       "    <tr style=\"text-align: right;\">\n",
       "      <th></th>\n",
       "      <th>Geo</th>\n",
       "      <th>Perioden</th>\n",
       "      <th>land- en tuinbouw</th>\n",
       "      <th>gespecialiseerd in niet land-en-tuinbouw gerelateerde activiteiten</th>\n",
       "    </tr>\n",
       "  </thead>\n",
       "  <tbody>\n",
       "    <tr>\n",
       "      <th>0</th>\n",
       "      <td>Aalst</td>\n",
       "      <td>2016</td>\n",
       "      <td>5.0</td>\n",
       "      <td>3</td>\n",
       "    </tr>\n",
       "    <tr>\n",
       "      <th>1</th>\n",
       "      <td>Aalst</td>\n",
       "      <td>2017</td>\n",
       "      <td>5.0</td>\n",
       "      <td>1</td>\n",
       "    </tr>\n",
       "  </tbody>\n",
       "</table>\n",
       "</div>"
      ],
      "text/plain": [
       "     Geo Perioden  land- en tuinbouw  \\\n",
       "0  Aalst     2016                5.0   \n",
       "1  Aalst     2017                5.0   \n",
       "\n",
       "  gespecialiseerd in niet land-en-tuinbouw gerelateerde activiteiten  \n",
       "0                                                  3                  \n",
       "1                                                  1                  "
      ]
     },
     "execution_count": 16,
     "metadata": {},
     "output_type": "execute_result"
    }
   ],
   "source": [
    "pinc_table.head(2)"
   ]
  },
  {
   "cell_type": "code",
   "execution_count": 17,
   "metadata": {},
   "outputs": [],
   "source": [
    "if pinc_table.columns[0] != 'Geo':\n",
    "    pinc_table.rename(columns={pinc_table.columns[0]: 'Geo'}, inplace = True)"
   ]
  },
  {
   "cell_type": "code",
   "execution_count": 18,
   "metadata": {},
   "outputs": [
    {
     "data": {
      "text/plain": [
       "'gemeente2018'"
      ]
     },
     "execution_count": 18,
     "metadata": {},
     "output_type": "execute_result"
    }
   ],
   "source": [
    "geolevel"
   ]
  },
  {
   "cell_type": "markdown",
   "metadata": {},
   "source": [
    "## ***Interactive check framework:***"
   ]
  },
  {
   "cell_type": "code",
   "execution_count": 19,
   "metadata": {},
   "outputs": [],
   "source": [
    "connection = Conn_pinc_data(pinc_table,data_table, geolevel)"
   ]
  },
  {
   "cell_type": "markdown",
   "metadata": {},
   "source": [
    "#### **Plot**"
   ]
  },
  {
   "cell_type": "code",
   "execution_count": 20,
   "metadata": {},
   "outputs": [],
   "source": [
    "list_vars = sorted(list(connection.cols_to_dict().keys()))\n",
    "list_geos = sorted(list(connection.reversed_level_code_dict().keys())) "
   ]
  },
  {
   "cell_type": "code",
   "execution_count": 21,
   "metadata": {},
   "outputs": [
    {
     "data": {
      "application/vnd.jupyter.widget-view+json": {
       "model_id": "dfee481236ca41c08d78e3b97fbd01fb",
       "version_major": 2,
       "version_minor": 0
      },
      "text/plain": [
       "interactive(children=(Dropdown(description='var', options=('gespecialiseerd in niet land-en-tuinbouw gerelatee…"
      ]
     },
     "metadata": {},
     "output_type": "display_data"
    }
   ],
   "source": [
    "interact(connection.draw_figure,var=list_vars,geo=list_geos, constant=fixed(0));"
   ]
  },
  {
   "cell_type": "markdown",
   "metadata": {},
   "source": [
    "#### **Overall outlier analysis**"
   ]
  },
  {
   "cell_type": "code",
   "execution_count": 22,
   "metadata": {},
   "outputs": [
    {
     "data": {
      "application/vnd.jupyter.widget-view+json": {
       "model_id": "d29f0bd09c804fb290e84a9527c5e04e",
       "version_major": 2,
       "version_minor": 0
      },
      "text/plain": [
       "interactive(children=(Dropdown(description='pinc_year', options=('2016', '2017', '2018', '2019', '2020', '2021…"
      ]
     },
     "metadata": {},
     "output_type": "display_data"
    }
   ],
   "source": [
    "interact(connection.overall_outlier_analysis, pinc_year=parsed_df.pinc_q_years, upload_year = parsed_df.years, absolute = True, ignore_inf = True);"
   ]
  },
  {
   "cell_type": "markdown",
   "metadata": {},
   "source": [
    "#### **Univariate outlier analysis:**"
   ]
  },
  {
   "cell_type": "code",
   "execution_count": 23,
   "metadata": {},
   "outputs": [
    {
     "data": {
      "application/vnd.jupyter.widget-view+json": {
       "model_id": "47b47b10f25d4e2091d7cfd8898f2ca4",
       "version_major": 2,
       "version_minor": 0
      },
      "text/plain": [
       "interactive(children=(Dropdown(description='var', options=('gespecialiseerd in niet land-en-tuinbouw gerelatee…"
      ]
     },
     "metadata": {},
     "output_type": "display_data"
    }
   ],
   "source": [
    "interact(connection.show_outliers, var=list_vars,upload_year = parsed_df.years, pinc_year = parsed_df.pinc_q_years);"
   ]
  },
  {
   "cell_type": "code",
   "execution_count": null,
   "metadata": {},
   "outputs": [],
   "source": []
  },
  {
   "cell_type": "code",
   "execution_count": null,
   "metadata": {},
   "outputs": [],
   "source": []
  },
  {
   "cell_type": "code",
   "execution_count": null,
   "metadata": {},
   "outputs": [],
   "source": []
  }
 ],
 "metadata": {
  "kernelspec": {
   "display_name": "Python 3",
   "language": "python",
   "name": "python3"
  },
  "language_info": {
   "codemirror_mode": {
    "name": "ipython",
    "version": 3
   },
   "file_extension": ".py",
   "mimetype": "text/x-python",
   "name": "python",
   "nbconvert_exporter": "python",
   "pygments_lexer": "ipython3",
   "version": "3.8.2"
  }
 },
 "nbformat": 4,
 "nbformat_minor": 4
}
