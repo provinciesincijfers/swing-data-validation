{
 "cells": [
  {
   "cell_type": "markdown",
   "metadata": {},
   "source": [
    "#### **Imports**"
   ]
  },
  {
   "cell_type": "code",
   "execution_count": 1,
   "metadata": {},
   "outputs": [],
   "source": [
    "import warnings;\n",
    "warnings.filterwarnings('ignore');"
   ]
  },
  {
   "cell_type": "code",
   "execution_count": 2,
   "metadata": {},
   "outputs": [],
   "source": [
    "%reload_ext autoreload\n",
    "%autoreload 2"
   ]
  },
  {
   "cell_type": "code",
   "execution_count": 3,
   "metadata": {},
   "outputs": [],
   "source": [
    "import pandas as pd\n",
    "import os, sys\n",
    "import numpy as np\n",
    "import random\n",
    "\n",
    "from  matplotlib.ticker import FuncFormatter # needed to set tickers properly in interactive plots\n",
    "import matplotlib.pyplot as plt\n",
    "import seaborn as sns\n",
    "sns.set_theme(style=\"darkgrid\")\n",
    "\n",
    "from ipywidgets import interact\n",
    "#from ipywidgets import interact, interactive, fixed, interact_manual\n",
    "import ipywidgets as widgets\n",
    "\n",
    "import requests\n",
    "\n",
    "from settings import PINC_GITHUB_DIR, JSON_CONF_DIR, UPLOAD_DIR\n",
    "from util.misc import generate_period_list\n",
    "from util.parse_df import Parse_df\n",
    "from util.conn_pinc_data import Conn_pinc_data\n"
   ]
  },
  {
   "cell_type": "code",
   "execution_count": 4,
   "metadata": {},
   "outputs": [],
   "source": [
    "from stadincijfers import stadincijfers\n",
    "from gebiedsniveaus.gebiedsniveaus import provincies_dict"
   ]
  },
  {
   "cell_type": "markdown",
   "metadata": {},
   "source": [
    "#### **Parameters**"
   ]
  },
  {
   "cell_type": "code",
   "execution_count": 5,
   "metadata": {},
   "outputs": [],
   "source": [
    "all_pinc_periods = True"
   ]
  },
  {
   "cell_type": "markdown",
   "metadata": {},
   "source": [
    "#### **PinC upload file**"
   ]
  },
  {
   "cell_type": "code",
   "execution_count": 6,
   "metadata": {},
   "outputs": [
    {
     "name": "stdout",
     "output_type": "stream",
     "text": [
      "./upload_pinc/20210623_Upload crimi en verkeer.xlsx\n"
     ]
    }
   ],
   "source": [
    "filename = '20210623_Upload crimi en verkeer.xlsx'\n",
    "file = UPLOAD_DIR + '/' + filename\n",
    "print(file)"
   ]
  },
  {
   "cell_type": "markdown",
   "metadata": {},
   "source": [
    "#### **Import PinC upload file for validation**"
   ]
  },
  {
   "cell_type": "code",
   "execution_count": 7,
   "metadata": {},
   "outputs": [],
   "source": [
    "# Read excel file, since there was an issue with (a very limited number)\n",
    "# of values that were not read properly we do a string transformation (using a converter)\n",
    "# later on (the opposite) int transformation will be applied\n",
    "column_list = []\n",
    "df_column = pd.read_excel(file, engine='openpyxl').columns\n",
    "for j in df_column:\n",
    "        column_list.append(j)\n",
    "converter = {col: str for col in column_list}\n",
    "#print(column_list)\n",
    "\n",
    "# Read excel, index_col=0 prevents from adding extra index column\n",
    "# Sheet_name defaults to 0. Use 1 to access the second sheet, and so on.\n",
    "# You can also use actual sheet-names (str).\n",
    "if 'Unnamed' in column_list[0]:\n",
    "    data_table = pd.read_excel(file, converters=converter, engine='openpyxl', sheet_name=1, index_col=0)\n",
    "else:\n",
    "    data_table = pd.read_excel(file, converters=converter, engine='openpyxl', sheet_name=1)"
   ]
  },
  {
   "cell_type": "code",
   "execution_count": 8,
   "metadata": {},
   "outputs": [
    {
     "data": {
      "text/html": [
       "<div>\n",
       "<style scoped>\n",
       "    .dataframe tbody tr th:only-of-type {\n",
       "        vertical-align: middle;\n",
       "    }\n",
       "\n",
       "    .dataframe tbody tr th {\n",
       "        vertical-align: top;\n",
       "    }\n",
       "\n",
       "    .dataframe thead th {\n",
       "        text-align: right;\n",
       "    }\n",
       "</style>\n",
       "<table border=\"1\" class=\"dataframe\">\n",
       "  <thead>\n",
       "    <tr style=\"text-align: right;\">\n",
       "      <th></th>\n",
       "      <th>period</th>\n",
       "      <th>geolevel</th>\n",
       "      <th>geoitem</th>\n",
       "      <th>v2802_vh_ver_auto</th>\n",
       "      <th>v2802_vh_ver_fiets</th>\n",
       "      <th>v2802_vh_ver_bus</th>\n",
       "      <th>v2802_vh_ver_ongeval_lets</th>\n",
       "    </tr>\n",
       "  </thead>\n",
       "  <tbody>\n",
       "    <tr>\n",
       "      <th>0</th>\n",
       "      <td>2019</td>\n",
       "      <td>gemeente</td>\n",
       "      <td>11001</td>\n",
       "      <td>75</td>\n",
       "      <td>24</td>\n",
       "      <td>4</td>\n",
       "      <td>98</td>\n",
       "    </tr>\n",
       "    <tr>\n",
       "      <th>1</th>\n",
       "      <td>2019</td>\n",
       "      <td>gemeente</td>\n",
       "      <td>11002</td>\n",
       "      <td>1866</td>\n",
       "      <td>1082</td>\n",
       "      <td>63</td>\n",
       "      <td>2562</td>\n",
       "    </tr>\n",
       "    <tr>\n",
       "      <th>2</th>\n",
       "      <td>2019</td>\n",
       "      <td>gemeente</td>\n",
       "      <td>11004</td>\n",
       "      <td>22</td>\n",
       "      <td>12</td>\n",
       "      <td>0</td>\n",
       "      <td>26</td>\n",
       "    </tr>\n",
       "    <tr>\n",
       "      <th>3</th>\n",
       "      <td>2019</td>\n",
       "      <td>gemeente</td>\n",
       "      <td>11005</td>\n",
       "      <td>44</td>\n",
       "      <td>23</td>\n",
       "      <td>1</td>\n",
       "      <td>60</td>\n",
       "    </tr>\n",
       "    <tr>\n",
       "      <th>4</th>\n",
       "      <td>2019</td>\n",
       "      <td>gemeente</td>\n",
       "      <td>11007</td>\n",
       "      <td>34</td>\n",
       "      <td>21</td>\n",
       "      <td>0</td>\n",
       "      <td>46</td>\n",
       "    </tr>\n",
       "  </tbody>\n",
       "</table>\n",
       "</div>"
      ],
      "text/plain": [
       "  period  geolevel geoitem  v2802_vh_ver_auto  v2802_vh_ver_fiets  \\\n",
       "0   2019  gemeente   11001                 75                  24   \n",
       "1   2019  gemeente   11002               1866                1082   \n",
       "2   2019  gemeente   11004                 22                  12   \n",
       "3   2019  gemeente   11005                 44                  23   \n",
       "4   2019  gemeente   11007                 34                  21   \n",
       "\n",
       "   v2802_vh_ver_bus  v2802_vh_ver_ongeval_lets  \n",
       "0                 4                         98  \n",
       "1                63                       2562  \n",
       "2                 0                         26  \n",
       "3                 1                         60  \n",
       "4                 0                         46  "
      ]
     },
     "execution_count": 8,
     "metadata": {},
     "output_type": "execute_result"
    }
   ],
   "source": [
    "data_table.head()"
   ]
  },
  {
   "cell_type": "code",
   "execution_count": 9,
   "metadata": {},
   "outputs": [],
   "source": [
    "#data_table = data_table[data_table['geolevel']!='gewest']"
   ]
  },
  {
   "cell_type": "code",
   "execution_count": 10,
   "metadata": {},
   "outputs": [
    {
     "data": {
      "text/html": [
       "<div>\n",
       "<style scoped>\n",
       "    .dataframe tbody tr th:only-of-type {\n",
       "        vertical-align: middle;\n",
       "    }\n",
       "\n",
       "    .dataframe tbody tr th {\n",
       "        vertical-align: top;\n",
       "    }\n",
       "\n",
       "    .dataframe thead th {\n",
       "        text-align: right;\n",
       "    }\n",
       "</style>\n",
       "<table border=\"1\" class=\"dataframe\">\n",
       "  <thead>\n",
       "    <tr style=\"text-align: right;\">\n",
       "      <th></th>\n",
       "      <th>period</th>\n",
       "      <th>geolevel</th>\n",
       "      <th>geoitem</th>\n",
       "      <th>v2802_vh_ver_auto</th>\n",
       "      <th>v2802_vh_ver_fiets</th>\n",
       "      <th>v2802_vh_ver_bus</th>\n",
       "      <th>v2802_vh_ver_ongeval_lets</th>\n",
       "    </tr>\n",
       "  </thead>\n",
       "  <tbody>\n",
       "    <tr>\n",
       "      <th>0</th>\n",
       "      <td>2019</td>\n",
       "      <td>gemeente</td>\n",
       "      <td>11001</td>\n",
       "      <td>75</td>\n",
       "      <td>24</td>\n",
       "      <td>4</td>\n",
       "      <td>98</td>\n",
       "    </tr>\n",
       "    <tr>\n",
       "      <th>1</th>\n",
       "      <td>2019</td>\n",
       "      <td>gemeente</td>\n",
       "      <td>11002</td>\n",
       "      <td>1866</td>\n",
       "      <td>1082</td>\n",
       "      <td>63</td>\n",
       "      <td>2562</td>\n",
       "    </tr>\n",
       "    <tr>\n",
       "      <th>2</th>\n",
       "      <td>2019</td>\n",
       "      <td>gemeente</td>\n",
       "      <td>11004</td>\n",
       "      <td>22</td>\n",
       "      <td>12</td>\n",
       "      <td>0</td>\n",
       "      <td>26</td>\n",
       "    </tr>\n",
       "    <tr>\n",
       "      <th>3</th>\n",
       "      <td>2019</td>\n",
       "      <td>gemeente</td>\n",
       "      <td>11005</td>\n",
       "      <td>44</td>\n",
       "      <td>23</td>\n",
       "      <td>1</td>\n",
       "      <td>60</td>\n",
       "    </tr>\n",
       "    <tr>\n",
       "      <th>4</th>\n",
       "      <td>2019</td>\n",
       "      <td>gemeente</td>\n",
       "      <td>11007</td>\n",
       "      <td>34</td>\n",
       "      <td>21</td>\n",
       "      <td>0</td>\n",
       "      <td>46</td>\n",
       "    </tr>\n",
       "  </tbody>\n",
       "</table>\n",
       "</div>"
      ],
      "text/plain": [
       "  period  geolevel geoitem  v2802_vh_ver_auto  v2802_vh_ver_fiets  \\\n",
       "0   2019  gemeente   11001                 75                  24   \n",
       "1   2019  gemeente   11002               1866                1082   \n",
       "2   2019  gemeente   11004                 22                  12   \n",
       "3   2019  gemeente   11005                 44                  23   \n",
       "4   2019  gemeente   11007                 34                  21   \n",
       "\n",
       "   v2802_vh_ver_bus  v2802_vh_ver_ongeval_lets  \n",
       "0                 4                         98  \n",
       "1                63                       2562  \n",
       "2                 0                         26  \n",
       "3                 1                         60  \n",
       "4                 0                         46  "
      ]
     },
     "execution_count": 10,
     "metadata": {},
     "output_type": "execute_result"
    }
   ],
   "source": [
    "data_table.head()"
   ]
  },
  {
   "cell_type": "markdown",
   "metadata": {},
   "source": [
    "### **Parse data_table**"
   ]
  },
  {
   "cell_type": "code",
   "execution_count": 11,
   "metadata": {},
   "outputs": [],
   "source": [
    "parsed_df = Parse_df(data_table)"
   ]
  },
  {
   "cell_type": "code",
   "execution_count": 12,
   "metadata": {},
   "outputs": [
    {
     "name": "stdout",
     "output_type": "stream",
     "text": [
      "List of upload table years: ['2019', '2020']\n",
      "Period list for Pinc Query: 2009, 2010, 2011, 2012, 2013, 2014, 2015, 2016, 2017, 2018, 2019\n"
     ]
    }
   ],
   "source": [
    "if all_pinc_periods:\n",
    "    period_list_pinc_query = parsed_df.determine_years('pinc', _ind_id = 0)\n",
    "elif not all_pinc_periods:\n",
    "    period_list_pinc_query = parsed_df.determine_years('table')\n",
    "else:\n",
    "    raise Exception(\"all_pinc_periods requires boolean value\")\n",
    "print(f'Period list for Pinc Query: {period_list_pinc_query}')"
   ]
  },
  {
   "cell_type": "code",
   "execution_count": 13,
   "metadata": {},
   "outputs": [
    {
     "name": "stdout",
     "output_type": "stream",
     "text": [
      "Indicator list for PinC Query: v2802_vh_ver_auto,v2802_vh_ver_fiets,v2802_vh_ver_bus,v2802_vh_ver_ongeval_lets\n"
     ]
    }
   ],
   "source": [
    "var_list_pinc_query = parsed_df.determine_indicators()\n",
    "print(f'Indicator list for PinC Query: {var_list_pinc_query}')"
   ]
  },
  {
   "cell_type": "code",
   "execution_count": 14,
   "metadata": {},
   "outputs": [
    {
     "name": "stdout",
     "output_type": "stream",
     "text": [
      "Geolevel for PinC Query: gemeente\n"
     ]
    }
   ],
   "source": [
    "geolevel = parsed_df.determine_geolevel()\n",
    "print(f'Geolevel for PinC Query: {geolevel}')"
   ]
  },
  {
   "cell_type": "markdown",
   "metadata": {},
   "source": [
    "### **PinC Query**"
   ]
  },
  {
   "cell_type": "code",
   "execution_count": 15,
   "metadata": {},
   "outputs": [],
   "source": [
    "# Instantiate object from class\n",
    "pinc = stadincijfers(\"provincies\")"
   ]
  },
  {
   "cell_type": "code",
   "execution_count": 16,
   "metadata": {},
   "outputs": [],
   "source": [
    "pinc_table = pinc.selectiontableasDataframe(var_list_pinc_query, geolevel=geolevel, periodlevel='year',period=period_list_pinc_query)"
   ]
  },
  {
   "cell_type": "code",
   "execution_count": 17,
   "metadata": {},
   "outputs": [
    {
     "data": {
      "text/html": [
       "<div>\n",
       "<style scoped>\n",
       "    .dataframe tbody tr th:only-of-type {\n",
       "        vertical-align: middle;\n",
       "    }\n",
       "\n",
       "    .dataframe tbody tr th {\n",
       "        vertical-align: top;\n",
       "    }\n",
       "\n",
       "    .dataframe thead th {\n",
       "        text-align: right;\n",
       "    }\n",
       "</style>\n",
       "<table border=\"1\" class=\"dataframe\">\n",
       "  <thead>\n",
       "    <tr style=\"text-align: right;\">\n",
       "      <th></th>\n",
       "      <th>Geo</th>\n",
       "      <th>Perioden</th>\n",
       "      <th>auto-ongevallen</th>\n",
       "      <th>fietsongevallen</th>\n",
       "      <th>busongevallen</th>\n",
       "      <th>verkeersongevallen met letsel - dummy</th>\n",
       "    </tr>\n",
       "  </thead>\n",
       "  <tbody>\n",
       "    <tr>\n",
       "      <th>0</th>\n",
       "      <td>Aalst</td>\n",
       "      <td>2009</td>\n",
       "      <td>364.0</td>\n",
       "      <td>105</td>\n",
       "      <td>10</td>\n",
       "      <td>437</td>\n",
       "    </tr>\n",
       "    <tr>\n",
       "      <th>1</th>\n",
       "      <td>Aalst</td>\n",
       "      <td>2010</td>\n",
       "      <td>350.0</td>\n",
       "      <td>113</td>\n",
       "      <td>11</td>\n",
       "      <td>431</td>\n",
       "    </tr>\n",
       "    <tr>\n",
       "      <th>2</th>\n",
       "      <td>Aalst</td>\n",
       "      <td>2011</td>\n",
       "      <td>367.0</td>\n",
       "      <td>120</td>\n",
       "      <td>4</td>\n",
       "      <td>445</td>\n",
       "    </tr>\n",
       "    <tr>\n",
       "      <th>3</th>\n",
       "      <td>Aalst</td>\n",
       "      <td>2012</td>\n",
       "      <td>291.0</td>\n",
       "      <td>109</td>\n",
       "      <td>6</td>\n",
       "      <td>368</td>\n",
       "    </tr>\n",
       "    <tr>\n",
       "      <th>4</th>\n",
       "      <td>Aalst</td>\n",
       "      <td>2013</td>\n",
       "      <td>295.0</td>\n",
       "      <td>102</td>\n",
       "      <td>2</td>\n",
       "      <td>366</td>\n",
       "    </tr>\n",
       "  </tbody>\n",
       "</table>\n",
       "</div>"
      ],
      "text/plain": [
       "     Geo Perioden  auto-ongevallen fietsongevallen busongevallen  \\\n",
       "0  Aalst     2009            364.0             105            10   \n",
       "1  Aalst     2010            350.0             113            11   \n",
       "2  Aalst     2011            367.0             120             4   \n",
       "3  Aalst     2012            291.0             109             6   \n",
       "4  Aalst     2013            295.0             102             2   \n",
       "\n",
       "  verkeersongevallen met letsel - dummy  \n",
       "0                                   437  \n",
       "1                                   431  \n",
       "2                                   445  \n",
       "3                                   368  \n",
       "4                                   366  "
      ]
     },
     "execution_count": 17,
     "metadata": {},
     "output_type": "execute_result"
    }
   ],
   "source": [
    "pinc_table.head()"
   ]
  },
  {
   "cell_type": "code",
   "execution_count": 18,
   "metadata": {},
   "outputs": [],
   "source": [
    "if pinc_table.columns[0] != 'Geo':\n",
    "    pinc_table.rename(columns={pinc_table.columns[0]: 'Geo'}, inplace = True)"
   ]
  },
  {
   "cell_type": "markdown",
   "metadata": {},
   "source": [
    "## ***Interactive check framework:***"
   ]
  },
  {
   "cell_type": "code",
   "execution_count": 19,
   "metadata": {},
   "outputs": [],
   "source": [
    "connection = Conn_pinc_data(pinc_table,data_table)"
   ]
  },
  {
   "cell_type": "code",
   "execution_count": 20,
   "metadata": {},
   "outputs": [],
   "source": [
    "var_dic = connection.cols_to_dict()\n",
    "geo_dic = Conn_pinc_data.reversed_level_code_dict(parsed_df.geolevel)"
   ]
  },
  {
   "cell_type": "code",
   "execution_count": 21,
   "metadata": {},
   "outputs": [
    {
     "name": "stdout",
     "output_type": "stream",
     "text": [
      "Random variable: busongevallen\n",
      "Random location: Sint-Genesius-Rode\n"
     ]
    }
   ],
   "source": [
    "var = random.choice(list(var_dic.keys()))\n",
    "print(f'Random variable: {var}')\n",
    "geo = random.choice(list(geo_dic.keys()))\n",
    "print(f'Random location: {geo}')"
   ]
  },
  {
   "cell_type": "code",
   "execution_count": 22,
   "metadata": {},
   "outputs": [
    {
     "data": {
      "text/html": [
       "<div>\n",
       "<style scoped>\n",
       "    .dataframe tbody tr th:only-of-type {\n",
       "        vertical-align: middle;\n",
       "    }\n",
       "\n",
       "    .dataframe tbody tr th {\n",
       "        vertical-align: top;\n",
       "    }\n",
       "\n",
       "    .dataframe thead th {\n",
       "        text-align: right;\n",
       "    }\n",
       "</style>\n",
       "<table border=\"1\" class=\"dataframe\">\n",
       "  <thead>\n",
       "    <tr style=\"text-align: right;\">\n",
       "      <th></th>\n",
       "      <th>Geo</th>\n",
       "      <th>Perioden</th>\n",
       "      <th>auto-ongevallen</th>\n",
       "      <th>fietsongevallen</th>\n",
       "      <th>busongevallen</th>\n",
       "      <th>verkeersongevallen met letsel - dummy</th>\n",
       "    </tr>\n",
       "  </thead>\n",
       "  <tbody>\n",
       "    <tr>\n",
       "      <th>0</th>\n",
       "      <td>Aalst</td>\n",
       "      <td>2009</td>\n",
       "      <td>364.0</td>\n",
       "      <td>105</td>\n",
       "      <td>10</td>\n",
       "      <td>437</td>\n",
       "    </tr>\n",
       "    <tr>\n",
       "      <th>1</th>\n",
       "      <td>Aalst</td>\n",
       "      <td>2010</td>\n",
       "      <td>350.0</td>\n",
       "      <td>113</td>\n",
       "      <td>11</td>\n",
       "      <td>431</td>\n",
       "    </tr>\n",
       "    <tr>\n",
       "      <th>2</th>\n",
       "      <td>Aalst</td>\n",
       "      <td>2011</td>\n",
       "      <td>367.0</td>\n",
       "      <td>120</td>\n",
       "      <td>4</td>\n",
       "      <td>445</td>\n",
       "    </tr>\n",
       "    <tr>\n",
       "      <th>3</th>\n",
       "      <td>Aalst</td>\n",
       "      <td>2012</td>\n",
       "      <td>291.0</td>\n",
       "      <td>109</td>\n",
       "      <td>6</td>\n",
       "      <td>368</td>\n",
       "    </tr>\n",
       "    <tr>\n",
       "      <th>4</th>\n",
       "      <td>Aalst</td>\n",
       "      <td>2013</td>\n",
       "      <td>295.0</td>\n",
       "      <td>102</td>\n",
       "      <td>2</td>\n",
       "      <td>366</td>\n",
       "    </tr>\n",
       "  </tbody>\n",
       "</table>\n",
       "</div>"
      ],
      "text/plain": [
       "     Geo Perioden  auto-ongevallen fietsongevallen busongevallen  \\\n",
       "0  Aalst     2009            364.0             105            10   \n",
       "1  Aalst     2010            350.0             113            11   \n",
       "2  Aalst     2011            367.0             120             4   \n",
       "3  Aalst     2012            291.0             109             6   \n",
       "4  Aalst     2013            295.0             102             2   \n",
       "\n",
       "  verkeersongevallen met letsel - dummy  \n",
       "0                                   437  \n",
       "1                                   431  \n",
       "2                                   445  \n",
       "3                                   368  \n",
       "4                                   366  "
      ]
     },
     "execution_count": 22,
     "metadata": {},
     "output_type": "execute_result"
    }
   ],
   "source": [
    "pinc_table.head()"
   ]
  },
  {
   "cell_type": "markdown",
   "metadata": {},
   "source": [
    "#### **Interactive plots:**"
   ]
  },
  {
   "cell_type": "markdown",
   "metadata": {},
   "source": [
    "##### **Set additive factor/constant for visually comparing upload and pinc number sequences. Set to 0 and re-run from here before running the outlier analysis (see issue 1)  **"
   ]
  },
  {
   "cell_type": "code",
   "execution_count": 23,
   "metadata": {},
   "outputs": [],
   "source": [
    "constant = 0"
   ]
  },
  {
   "cell_type": "code",
   "execution_count": 24,
   "metadata": {},
   "outputs": [],
   "source": [
    "# int transform changed to float transfrom in lambdas\n",
    "# to do: make constant (to make lines visually different) dynamic\n",
    "def draw_figure(var= var ,geo= geo):\n",
    "    tmp_df = pd.DataFrame()\n",
    "    \n",
    "    upload_var = var_dic.get(var)\n",
    "    upload_geo = geo_dic.get(geo)\n",
    "    \n",
    "    tmp_df_pinc = pinc_table[pinc_table['Geo']==geo][['Perioden','Geo',var]]\n",
    "    tmp_df_pinc['Geo'] = tmp_df_pinc['Geo'].apply(lambda x: str(x) + '_PinC')\n",
    "    tmp_df_pinc[var] = tmp_df_pinc[var].apply(lambda x: None if ((not x) or (x=='-') or (x=='x') or (x=='?')) else (float(x) + constant) )  # We add one to ease comparison in plot\n",
    "    tmp_df = tmp_df.append(tmp_df_pinc)\n",
    "    #print('PinC Dataframe:')\n",
    "    #print(tmp_df.head())\n",
    "    \n",
    "    tmp_df_upload = data_table[data_table['geoitem']==upload_geo][['period','geoitem',upload_var]]\n",
    "    tmp_df_upload = tmp_df_upload.rename(columns={'geoitem':'Geo', 'period': 'Perioden', upload_var : var})\n",
    "    tmp_df_upload['Geo'] = tmp_df_upload['Geo'].apply(lambda x: str(x) + '_Upload')\n",
    "    tmp_df_upload[var] = tmp_df_upload[var].apply(lambda x: float(x))\n",
    "    tmp_df = tmp_df.append(tmp_df_upload)\n",
    "    #print('Upload Dataframe:')\n",
    "    #print(tmp_df.head())\n",
    "    \n",
    "    tmp_df['Perioden'] = tmp_df['Perioden'].apply(lambda x: int(x))\n",
    "    #print(tmp_df['Perioden'].unique())\n",
    "    sns.lineplot(data=tmp_df, x='Perioden',y= var,hue='Geo', style='Geo', markers=True, dashes=False);\n",
    "    # Format year on xticks to int (instead of float):\n",
    "    plt.gca().xaxis.set_major_formatter(FuncFormatter(lambda x, _: int(x)));\n",
    "    plt.legend(bbox_to_anchor=(1.05, 1), loc=2, borderaxespad=0.);\n"
   ]
  },
  {
   "cell_type": "code",
   "execution_count": 25,
   "metadata": {},
   "outputs": [],
   "source": [
    "#draw_figure()"
   ]
  },
  {
   "cell_type": "code",
   "execution_count": 26,
   "metadata": {},
   "outputs": [],
   "source": [
    "list_vars = sorted(list(var_dic.keys()))\n",
    "list_geos = sorted(list(geo_dic.keys()))  # to do: do an alphabetic sort first"
   ]
  },
  {
   "cell_type": "code",
   "execution_count": 27,
   "metadata": {},
   "outputs": [
    {
     "data": {
      "application/vnd.jupyter.widget-view+json": {
       "model_id": "",
       "version_major": 2,
       "version_minor": 0
      },
      "text/plain": [
       "interactive(children=(Dropdown(description='var', index=1, options=('auto-ongevallen', 'busongevallen', 'fiets…"
      ]
     },
     "metadata": {},
     "output_type": "display_data"
    }
   ],
   "source": [
    "# to do: make better label names\n",
    "interact(draw_figure, var=list_vars,geo=list_geos);"
   ]
  },
  {
   "cell_type": "markdown",
   "metadata": {},
   "source": [
    "#### **Iterative outlier analysis**"
   ]
  },
  {
   "cell_type": "markdown",
   "metadata": {},
   "source": [
    "##### **Overall outlier analysis (make a choice between (A.) automatic generation of comparison years or (B.) setting comparison years yourself):**"
   ]
  },
  {
   "cell_type": "code",
   "execution_count": 28,
   "metadata": {},
   "outputs": [
    {
     "name": "stdout",
     "output_type": "stream",
     "text": [
      "Upload year: 2019\n",
      "Pinc year: 2018\n"
     ]
    }
   ],
   "source": [
    "# A. Random generation of comparison years (starting from oldest year in upload file):\n",
    "upload_year = parsed_df.years[0]\n",
    "print(f'Upload year: {upload_year}')\n",
    "if str((int(upload_year)-1)) in parsed_df.pinc_q_years :\n",
    "    pinc_year = int(upload_year)-1\n",
    "else:\n",
    "    pinc_year = random.choice(parsed_df.pinc_q_years)\n",
    "print(f'Pinc year: {pinc_year}')"
   ]
  },
  {
   "cell_type": "code",
   "execution_count": 29,
   "metadata": {},
   "outputs": [],
   "source": [
    "# B. Set comparison years:\n",
    "upload_year = 2020\n",
    "pinc_year = 2019"
   ]
  },
  {
   "cell_type": "code",
   "execution_count": 49,
   "metadata": {},
   "outputs": [
    {
     "data": {
      "text/html": [
       "<div>\n",
       "<style scoped>\n",
       "    .dataframe tbody tr th:only-of-type {\n",
       "        vertical-align: middle;\n",
       "    }\n",
       "\n",
       "    .dataframe tbody tr th {\n",
       "        vertical-align: top;\n",
       "    }\n",
       "\n",
       "    .dataframe thead th {\n",
       "        text-align: right;\n",
       "    }\n",
       "</style>\n",
       "<table border=\"1\" class=\"dataframe\">\n",
       "  <thead>\n",
       "    <tr style=\"text-align: right;\">\n",
       "      <th></th>\n",
       "      <th>Geo_pinc</th>\n",
       "      <th>_pinc_2019</th>\n",
       "      <th>_upload_2020</th>\n",
       "      <th>diff</th>\n",
       "      <th>Indicator</th>\n",
       "    </tr>\n",
       "  </thead>\n",
       "  <tbody>\n",
       "    <tr>\n",
       "      <th>31</th>\n",
       "      <td>Blankenberge</td>\n",
       "      <td>0.0</td>\n",
       "      <td>1.0</td>\n",
       "      <td>inf</td>\n",
       "      <td>busongevallen_P2019_U2020</td>\n",
       "    </tr>\n",
       "    <tr>\n",
       "      <th>72</th>\n",
       "      <td>Etterbeek</td>\n",
       "      <td>0.0</td>\n",
       "      <td>3.0</td>\n",
       "      <td>inf</td>\n",
       "      <td>busongevallen_P2019_U2020</td>\n",
       "    </tr>\n",
       "    <tr>\n",
       "      <th>242</th>\n",
       "      <td>Schilde</td>\n",
       "      <td>0.0</td>\n",
       "      <td>1.0</td>\n",
       "      <td>inf</td>\n",
       "      <td>busongevallen_P2019_U2020</td>\n",
       "    </tr>\n",
       "    <tr>\n",
       "      <th>244</th>\n",
       "      <td>Sint-Agatha-Berchem</td>\n",
       "      <td>0.0</td>\n",
       "      <td>2.0</td>\n",
       "      <td>inf</td>\n",
       "      <td>busongevallen_P2019_U2020</td>\n",
       "    </tr>\n",
       "    <tr>\n",
       "      <th>183</th>\n",
       "      <td>Maasmechelen</td>\n",
       "      <td>0.0</td>\n",
       "      <td>1.0</td>\n",
       "      <td>inf</td>\n",
       "      <td>busongevallen_P2019_U2020</td>\n",
       "    </tr>\n",
       "    <tr>\n",
       "      <th>181</th>\n",
       "      <td>Maarkedal</td>\n",
       "      <td>0.0</td>\n",
       "      <td>1.0</td>\n",
       "      <td>inf</td>\n",
       "      <td>busongevallen_P2019_U2020</td>\n",
       "    </tr>\n",
       "    <tr>\n",
       "      <th>149</th>\n",
       "      <td>Kraainem</td>\n",
       "      <td>0.0</td>\n",
       "      <td>1.0</td>\n",
       "      <td>inf</td>\n",
       "      <td>busongevallen_P2019_U2020</td>\n",
       "    </tr>\n",
       "    <tr>\n",
       "      <th>99</th>\n",
       "      <td>Heers</td>\n",
       "      <td>0.0</td>\n",
       "      <td>5.0</td>\n",
       "      <td>inf</td>\n",
       "      <td>fietsongevallen_P2019_U2020</td>\n",
       "    </tr>\n",
       "    <tr>\n",
       "      <th>33</th>\n",
       "      <td>Boechout</td>\n",
       "      <td>0.0</td>\n",
       "      <td>2.0</td>\n",
       "      <td>inf</td>\n",
       "      <td>busongevallen_P2019_U2020</td>\n",
       "    </tr>\n",
       "    <tr>\n",
       "      <th>82</th>\n",
       "      <td>Geraardsbergen</td>\n",
       "      <td>0.0</td>\n",
       "      <td>1.0</td>\n",
       "      <td>inf</td>\n",
       "      <td>busongevallen_P2019_U2020</td>\n",
       "    </tr>\n",
       "    <tr>\n",
       "      <th>137</th>\n",
       "      <td>Kinrooi</td>\n",
       "      <td>0.0</td>\n",
       "      <td>1.0</td>\n",
       "      <td>inf</td>\n",
       "      <td>busongevallen_P2019_U2020</td>\n",
       "    </tr>\n",
       "    <tr>\n",
       "      <th>301</th>\n",
       "      <td>Wuustwezel</td>\n",
       "      <td>0.0</td>\n",
       "      <td>1.0</td>\n",
       "      <td>inf</td>\n",
       "      <td>busongevallen_P2019_U2020</td>\n",
       "    </tr>\n",
       "    <tr>\n",
       "      <th>299</th>\n",
       "      <td>Wommelgem</td>\n",
       "      <td>0.0</td>\n",
       "      <td>1.0</td>\n",
       "      <td>inf</td>\n",
       "      <td>busongevallen_P2019_U2020</td>\n",
       "    </tr>\n",
       "    <tr>\n",
       "      <th>260</th>\n",
       "      <td>Stabroek</td>\n",
       "      <td>0.0</td>\n",
       "      <td>1.0</td>\n",
       "      <td>inf</td>\n",
       "      <td>busongevallen_P2019_U2020</td>\n",
       "    </tr>\n",
       "    <tr>\n",
       "      <th>128</th>\n",
       "      <td>Jabbeke</td>\n",
       "      <td>0.0</td>\n",
       "      <td>1.0</td>\n",
       "      <td>inf</td>\n",
       "      <td>busongevallen_P2019_U2020</td>\n",
       "    </tr>\n",
       "    <tr>\n",
       "      <th>262</th>\n",
       "      <td>Steenokkerzeel</td>\n",
       "      <td>0.0</td>\n",
       "      <td>1.0</td>\n",
       "      <td>inf</td>\n",
       "      <td>busongevallen_P2019_U2020</td>\n",
       "    </tr>\n",
       "    <tr>\n",
       "      <th>90</th>\n",
       "      <td>Haaltert</td>\n",
       "      <td>0.0</td>\n",
       "      <td>1.0</td>\n",
       "      <td>inf</td>\n",
       "      <td>busongevallen_P2019_U2020</td>\n",
       "    </tr>\n",
       "    <tr>\n",
       "      <th>100</th>\n",
       "      <td>Heist-op-den-Berg</td>\n",
       "      <td>0.0</td>\n",
       "      <td>1.0</td>\n",
       "      <td>inf</td>\n",
       "      <td>busongevallen_P2019_U2020</td>\n",
       "    </tr>\n",
       "    <tr>\n",
       "      <th>102</th>\n",
       "      <td>Herent</td>\n",
       "      <td>0.0</td>\n",
       "      <td>1.0</td>\n",
       "      <td>inf</td>\n",
       "      <td>busongevallen_P2019_U2020</td>\n",
       "    </tr>\n",
       "    <tr>\n",
       "      <th>291</th>\n",
       "      <td>Wetteren</td>\n",
       "      <td>0.0</td>\n",
       "      <td>1.0</td>\n",
       "      <td>inf</td>\n",
       "      <td>busongevallen_P2019_U2020</td>\n",
       "    </tr>\n",
       "    <tr>\n",
       "      <th>184</th>\n",
       "      <td>Machelen</td>\n",
       "      <td>0.0</td>\n",
       "      <td>1.0</td>\n",
       "      <td>inf</td>\n",
       "      <td>busongevallen_P2019_U2020</td>\n",
       "    </tr>\n",
       "    <tr>\n",
       "      <th>109</th>\n",
       "      <td>Herzele</td>\n",
       "      <td>0.0</td>\n",
       "      <td>1.0</td>\n",
       "      <td>inf</td>\n",
       "      <td>busongevallen_P2019_U2020</td>\n",
       "    </tr>\n",
       "    <tr>\n",
       "      <th>114</th>\n",
       "      <td>Hoeselt</td>\n",
       "      <td>0.0</td>\n",
       "      <td>1.0</td>\n",
       "      <td>inf</td>\n",
       "      <td>busongevallen_P2019_U2020</td>\n",
       "    </tr>\n",
       "    <tr>\n",
       "      <th>117</th>\n",
       "      <td>Hoogstraten</td>\n",
       "      <td>0.0</td>\n",
       "      <td>1.0</td>\n",
       "      <td>inf</td>\n",
       "      <td>busongevallen_P2019_U2020</td>\n",
       "    </tr>\n",
       "    <tr>\n",
       "      <th>265</th>\n",
       "      <td>Ternat</td>\n",
       "      <td>0.0</td>\n",
       "      <td>1.0</td>\n",
       "      <td>inf</td>\n",
       "      <td>busongevallen_P2019_U2020</td>\n",
       "    </tr>\n",
       "    <tr>\n",
       "      <th>125</th>\n",
       "      <td>Ieper</td>\n",
       "      <td>0.0</td>\n",
       "      <td>2.0</td>\n",
       "      <td>inf</td>\n",
       "      <td>busongevallen_P2019_U2020</td>\n",
       "    </tr>\n",
       "    <tr>\n",
       "      <th>127</th>\n",
       "      <td>Izegem</td>\n",
       "      <td>0.0</td>\n",
       "      <td>1.0</td>\n",
       "      <td>inf</td>\n",
       "      <td>busongevallen_P2019_U2020</td>\n",
       "    </tr>\n",
       "    <tr>\n",
       "      <th>240</th>\n",
       "      <td>Schelle</td>\n",
       "      <td>0.0</td>\n",
       "      <td>1.0</td>\n",
       "      <td>inf</td>\n",
       "      <td>busongevallen_P2019_U2020</td>\n",
       "    </tr>\n",
       "    <tr>\n",
       "      <th>78</th>\n",
       "      <td>Geel</td>\n",
       "      <td>0.0</td>\n",
       "      <td>1.0</td>\n",
       "      <td>inf</td>\n",
       "      <td>busongevallen_P2019_U2020</td>\n",
       "    </tr>\n",
       "    <tr>\n",
       "      <th>238</th>\n",
       "      <td>Rumst</td>\n",
       "      <td>0.0</td>\n",
       "      <td>1.0</td>\n",
       "      <td>inf</td>\n",
       "      <td>busongevallen_P2019_U2020</td>\n",
       "    </tr>\n",
       "  </tbody>\n",
       "</table>\n",
       "</div>"
      ],
      "text/plain": [
       "                Geo_pinc  _pinc_2019  _upload_2020  diff  \\\n",
       "31          Blankenberge         0.0           1.0   inf   \n",
       "72             Etterbeek         0.0           3.0   inf   \n",
       "242              Schilde         0.0           1.0   inf   \n",
       "244  Sint-Agatha-Berchem         0.0           2.0   inf   \n",
       "183         Maasmechelen         0.0           1.0   inf   \n",
       "181            Maarkedal         0.0           1.0   inf   \n",
       "149             Kraainem         0.0           1.0   inf   \n",
       "99                 Heers         0.0           5.0   inf   \n",
       "33              Boechout         0.0           2.0   inf   \n",
       "82        Geraardsbergen         0.0           1.0   inf   \n",
       "137              Kinrooi         0.0           1.0   inf   \n",
       "301           Wuustwezel         0.0           1.0   inf   \n",
       "299            Wommelgem         0.0           1.0   inf   \n",
       "260             Stabroek         0.0           1.0   inf   \n",
       "128              Jabbeke         0.0           1.0   inf   \n",
       "262       Steenokkerzeel         0.0           1.0   inf   \n",
       "90              Haaltert         0.0           1.0   inf   \n",
       "100    Heist-op-den-Berg         0.0           1.0   inf   \n",
       "102               Herent         0.0           1.0   inf   \n",
       "291             Wetteren         0.0           1.0   inf   \n",
       "184             Machelen         0.0           1.0   inf   \n",
       "109              Herzele         0.0           1.0   inf   \n",
       "114              Hoeselt         0.0           1.0   inf   \n",
       "117          Hoogstraten         0.0           1.0   inf   \n",
       "265               Ternat         0.0           1.0   inf   \n",
       "125                Ieper         0.0           2.0   inf   \n",
       "127               Izegem         0.0           1.0   inf   \n",
       "240              Schelle         0.0           1.0   inf   \n",
       "78                  Geel         0.0           1.0   inf   \n",
       "238                Rumst         0.0           1.0   inf   \n",
       "\n",
       "                       Indicator  \n",
       "31     busongevallen_P2019_U2020  \n",
       "72     busongevallen_P2019_U2020  \n",
       "242    busongevallen_P2019_U2020  \n",
       "244    busongevallen_P2019_U2020  \n",
       "183    busongevallen_P2019_U2020  \n",
       "181    busongevallen_P2019_U2020  \n",
       "149    busongevallen_P2019_U2020  \n",
       "99   fietsongevallen_P2019_U2020  \n",
       "33     busongevallen_P2019_U2020  \n",
       "82     busongevallen_P2019_U2020  \n",
       "137    busongevallen_P2019_U2020  \n",
       "301    busongevallen_P2019_U2020  \n",
       "299    busongevallen_P2019_U2020  \n",
       "260    busongevallen_P2019_U2020  \n",
       "128    busongevallen_P2019_U2020  \n",
       "262    busongevallen_P2019_U2020  \n",
       "90     busongevallen_P2019_U2020  \n",
       "100    busongevallen_P2019_U2020  \n",
       "102    busongevallen_P2019_U2020  \n",
       "291    busongevallen_P2019_U2020  \n",
       "184    busongevallen_P2019_U2020  \n",
       "109    busongevallen_P2019_U2020  \n",
       "114    busongevallen_P2019_U2020  \n",
       "117    busongevallen_P2019_U2020  \n",
       "265    busongevallen_P2019_U2020  \n",
       "125    busongevallen_P2019_U2020  \n",
       "127    busongevallen_P2019_U2020  \n",
       "240    busongevallen_P2019_U2020  \n",
       "78     busongevallen_P2019_U2020  \n",
       "238    busongevallen_P2019_U2020  "
      ]
     },
     "execution_count": 49,
     "metadata": {},
     "output_type": "execute_result"
    }
   ],
   "source": [
    "tmp_df = pd.DataFrame()\n",
    "tel = 0\n",
    "for var in list(var_dic.keys()):\n",
    "\n",
    "\n",
    "    upload_var = var_dic.get(var)\n",
    "\n",
    "    tmp_df_pinc = pinc_table[pinc_table['Perioden']==str(pinc_year)][['Geo',var]]\n",
    "    tmp_df_pinc[var] = tmp_df_pinc[var].apply(lambda x: None if ((not x) or (x=='-') or (x=='x') or (x=='?')) else (float(x) + constant) )  # We add one to ease comparison in plot\n",
    "    tmp_df_pinc = tmp_df_pinc.rename(columns={'Geo':'Geo_pinc',var: '_pinc_' + str(pinc_year)})\n",
    "    tmp_df_pinc['geo_code_pinc'] = tmp_df_pinc['Geo_pinc'].map(geo_dic)\n",
    "\n",
    "\n",
    "    tmp_df_upload = data_table[data_table['period']==str(upload_year)][['geoitem',upload_var]]\n",
    "    tmp_df_upload = tmp_df_upload.rename(columns={'geoitem':'geo_code_upload', upload_var : '_upload_' + str(upload_year)})\n",
    "    tmp_df_upload['_upload_' + str(upload_year)] = tmp_df_upload['_upload_' + str(upload_year)].apply(lambda x: float(x))\n",
    "\n",
    "    merged_df = tmp_df_pinc.merge(tmp_df_upload, left_on='geo_code_pinc', right_on='geo_code_upload')\n",
    "    merged_df['diff'] = abs(merged_df['_pinc_' + str(pinc_year)]-merged_df['_upload_' + str(upload_year)])/merged_df['_pinc_' + str(pinc_year)]\n",
    "    merged_df['Indicator'] = var + '_P' + str(pinc_year) + '_U' + str(upload_year)\n",
    "    \n",
    "    ## Uncomment next line for some validation\n",
    "    #print(f'Variable: {var}, Shape: {merged_df.shape}')\n",
    "    tel += merged_df.shape[0]\n",
    "    tmp_df = tmp_df.append(merged_df)\n",
    "\n",
    "## Uncomment two next lines for some counters to be used for validation:    \n",
    "#tel_t = len(list(var_dic.keys())*merged_df.shape[0])     \n",
    "#print(f'Cumulated no. rows: {tel} vs theoretical no. rows: {tel_t}')\n",
    "\n",
    "# Uncomment second line if you want to ignore diff=inf as a result from division by zero\n",
    "tmp_df.sort_values(by=['diff'], ascending=False)[['Geo_pinc', '_pinc_' + str(pinc_year), '_upload_' + str(upload_year),'diff','Indicator']].head(30)\n",
    "#tmp_df[~(tmp_df['diff']==np.inf)].sort_values(by=['diff'], ascending=False)[['Geo_pinc', '_pinc_' + str(pinc_year), '_upload_' + str(upload_year),'diff','Indicator']].head(30)"
   ]
  },
  {
   "cell_type": "code",
   "execution_count": null,
   "metadata": {},
   "outputs": [],
   "source": []
  },
  {
   "cell_type": "markdown",
   "metadata": {},
   "source": [
    "##### **Univariate outlier analysis:**"
   ]
  },
  {
   "cell_type": "code",
   "execution_count": 58,
   "metadata": {},
   "outputs": [],
   "source": [
    "def show_outliers(var = var, upload_year = upload_year, pinc_year = pinc_year):\n",
    "    upload_var = var_dic.get(var)\n",
    "    \n",
    "    tmp_df_pinc = pinc_table[pinc_table['Perioden']==str(pinc_year)][['Geo',var]]\n",
    "    tmp_df_pinc[var] = tmp_df_pinc[var].apply(lambda x: None if ((not x) or (x=='-') or (x=='x') or (x=='?')) else (float(x) + constant) )  # We add one to ease comparison in plot\n",
    "    tmp_df_pinc = tmp_df_pinc.rename(columns={'Geo':'Geo_pinc',var: var + '_pinc_' + str(pinc_year)})\n",
    "    tmp_df_pinc['geo_code_pinc'] = tmp_df_pinc['Geo_pinc'].map(geo_dic)\n",
    "\n",
    "\n",
    "    tmp_df_upload = data_table[data_table['period']==str(upload_year)][['geoitem',upload_var]]\n",
    "    tmp_df_upload = tmp_df_upload.rename(columns={'geoitem':'geo_code_upload', upload_var : var + '_upload_' + str(upload_year)})\n",
    "    tmp_df_upload[var + '_upload_' + str(upload_year)] = tmp_df_upload[var + '_upload_' + str(upload_year)].apply(lambda x: float(x))\n",
    "\n",
    "    merged_df = tmp_df_pinc.merge(tmp_df_upload, left_on='geo_code_pinc', right_on='geo_code_upload')\n",
    "    merged_df['diff'] = abs(merged_df[var + '_pinc_' + str(pinc_year)]-merged_df[var + '_upload_' + str(upload_year)])/merged_df[var + '_pinc_' + str(pinc_year)]\n",
    "    #return merged_df.sort_values(by=['diff'], ascending=False)[['Geo_pinc', var + '_pinc_' + str(pinc_year), var + '_upload_' + str(upload_year),'diff']].head(20)\n",
    "    return merged_df[~(merged_df['diff']==np.inf)].sort_values(by=['diff'], ascending=False)[['Geo_pinc', var + '_pinc_' + str(pinc_year), var + '_upload_' + str(upload_year),'diff']].head(20)"
   ]
  },
  {
   "cell_type": "code",
   "execution_count": 59,
   "metadata": {},
   "outputs": [],
   "source": [
    "#show_outliers()"
   ]
  },
  {
   "cell_type": "code",
   "execution_count": 60,
   "metadata": {},
   "outputs": [],
   "source": [
    "list_upload_years = parsed_df.years\n",
    "list_pinc_years = parsed_df.pinc_q_years"
   ]
  },
  {
   "cell_type": "code",
   "execution_count": 61,
   "metadata": {},
   "outputs": [
    {
     "data": {
      "application/vnd.jupyter.widget-view+json": {
       "model_id": "55ab06d11daa41639385d4a52f13a473",
       "version_major": 2,
       "version_minor": 0
      },
      "text/plain": [
       "interactive(children=(Dropdown(description='var', index=3, options=('auto-ongevallen', 'busongevallen', 'fiets…"
      ]
     },
     "metadata": {},
     "output_type": "display_data"
    }
   ],
   "source": [
    "# to do: make better label names\n",
    "interact(show_outliers, var=list_vars,upload_year = list_upload_years, pinc_year = list_pinc_years);"
   ]
  },
  {
   "cell_type": "code",
   "execution_count": null,
   "metadata": {},
   "outputs": [],
   "source": []
  },
  {
   "cell_type": "code",
   "execution_count": null,
   "metadata": {},
   "outputs": [],
   "source": []
  }
 ],
 "metadata": {
  "kernelspec": {
   "display_name": "Python 3",
   "language": "python",
   "name": "python3"
  },
  "language_info": {
   "codemirror_mode": {
    "name": "ipython",
    "version": 3
   },
   "file_extension": ".py",
   "mimetype": "text/x-python",
   "name": "python",
   "nbconvert_exporter": "python",
   "pygments_lexer": "ipython3",
   "version": "3.8.2"
  }
 },
 "nbformat": 4,
 "nbformat_minor": 4
}
